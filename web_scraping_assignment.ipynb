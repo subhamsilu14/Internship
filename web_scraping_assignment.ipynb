{
 "cells": [
  {
   "cell_type": "markdown",
   "id": "3cea2ab6",
   "metadata": {},
   "source": [
    "question no 1"
   ]
  },
  {
   "cell_type": "code",
   "execution_count": 1,
   "id": "472c530a",
   "metadata": {},
   "outputs": [],
   "source": [
    "from bs4 import BeautifulSoup\n",
    "import requests"
   ]
  },
  {
   "cell_type": "code",
   "execution_count": 2,
   "id": "3009fd84",
   "metadata": {},
   "outputs": [],
   "source": [
    "page=requests.get('https://en.wikipedia.org/wiki/Main_Page')"
   ]
  },
  {
   "cell_type": "code",
   "execution_count": 3,
   "id": "6e657960",
   "metadata": {},
   "outputs": [
    {
     "data": {
      "text/plain": [
       "<Response [200]>"
      ]
     },
     "execution_count": 3,
     "metadata": {},
     "output_type": "execute_result"
    }
   ],
   "source": [
    "page"
   ]
  },
  {
   "cell_type": "code",
   "execution_count": 4,
   "id": "cff81536",
   "metadata": {},
   "outputs": [],
   "source": [
    "soup=BeautifulSoup(page.content)"
   ]
  },
  {
   "cell_type": "code",
   "execution_count": 5,
   "id": "4f4e8f40",
   "metadata": {},
   "outputs": [
    {
     "data": {
      "text/plain": [
       "['Welcome to Wikipedia',\n",
       " \"From today's featured article\",\n",
       " 'Did you know\\xa0...',\n",
       " 'In the news',\n",
       " 'On this day',\n",
       " \"From today's featured list\",\n",
       " \"Today's featured picture\",\n",
       " 'Other areas of Wikipedia',\n",
       " \"Wikipedia's sister projects\",\n",
       " 'Wikipedia languages']"
      ]
     },
     "execution_count": 5,
     "metadata": {},
     "output_type": "execute_result"
    }
   ],
   "source": [
    "head_data=[]\n",
    "for i in soup.find_all('span',class_=\"mw-headline\"):\n",
    "    head_data.append(i.text)\n",
    "    \n",
    "head_data"
   ]
  },
  {
   "cell_type": "code",
   "execution_count": 2,
   "id": "9cfbfe8e",
   "metadata": {},
   "outputs": [],
   "source": [
    "import pandas as pd"
   ]
  },
  {
   "cell_type": "code",
   "execution_count": 12,
   "id": "d550020b",
   "metadata": {},
   "outputs": [],
   "source": [
    "df=pd.DataFrame({'header tags':head_data})"
   ]
  },
  {
   "cell_type": "code",
   "execution_count": 13,
   "id": "0ff90c4f",
   "metadata": {},
   "outputs": [
    {
     "data": {
      "text/html": [
       "<div>\n",
       "<style scoped>\n",
       "    .dataframe tbody tr th:only-of-type {\n",
       "        vertical-align: middle;\n",
       "    }\n",
       "\n",
       "    .dataframe tbody tr th {\n",
       "        vertical-align: top;\n",
       "    }\n",
       "\n",
       "    .dataframe thead th {\n",
       "        text-align: right;\n",
       "    }\n",
       "</style>\n",
       "<table border=\"1\" class=\"dataframe\">\n",
       "  <thead>\n",
       "    <tr style=\"text-align: right;\">\n",
       "      <th></th>\n",
       "      <th>header tags</th>\n",
       "    </tr>\n",
       "  </thead>\n",
       "  <tbody>\n",
       "    <tr>\n",
       "      <th>0</th>\n",
       "      <td>Welcome to Wikipedia</td>\n",
       "    </tr>\n",
       "    <tr>\n",
       "      <th>1</th>\n",
       "      <td>From today's featured article</td>\n",
       "    </tr>\n",
       "    <tr>\n",
       "      <th>2</th>\n",
       "      <td>Did you know ...</td>\n",
       "    </tr>\n",
       "    <tr>\n",
       "      <th>3</th>\n",
       "      <td>In the news</td>\n",
       "    </tr>\n",
       "    <tr>\n",
       "      <th>4</th>\n",
       "      <td>On this day</td>\n",
       "    </tr>\n",
       "    <tr>\n",
       "      <th>5</th>\n",
       "      <td>From today's featured list</td>\n",
       "    </tr>\n",
       "    <tr>\n",
       "      <th>6</th>\n",
       "      <td>Today's featured picture</td>\n",
       "    </tr>\n",
       "    <tr>\n",
       "      <th>7</th>\n",
       "      <td>Other areas of Wikipedia</td>\n",
       "    </tr>\n",
       "    <tr>\n",
       "      <th>8</th>\n",
       "      <td>Wikipedia's sister projects</td>\n",
       "    </tr>\n",
       "    <tr>\n",
       "      <th>9</th>\n",
       "      <td>Wikipedia languages</td>\n",
       "    </tr>\n",
       "  </tbody>\n",
       "</table>\n",
       "</div>"
      ],
      "text/plain": [
       "                     header tags\n",
       "0           Welcome to Wikipedia\n",
       "1  From today's featured article\n",
       "2               Did you know ...\n",
       "3                    In the news\n",
       "4                    On this day\n",
       "5     From today's featured list\n",
       "6       Today's featured picture\n",
       "7       Other areas of Wikipedia\n",
       "8    Wikipedia's sister projects\n",
       "9            Wikipedia languages"
      ]
     },
     "execution_count": 13,
     "metadata": {},
     "output_type": "execute_result"
    }
   ],
   "source": [
    "df"
   ]
  },
  {
   "cell_type": "markdown",
   "id": "0f81d9b7",
   "metadata": {},
   "source": [
    "question no 2"
   ]
  },
  {
   "cell_type": "code",
   "execution_count": 14,
   "id": "66e740ff",
   "metadata": {},
   "outputs": [
    {
     "data": {
      "text/plain": [
       "<Response [200]>"
      ]
     },
     "execution_count": 14,
     "metadata": {},
     "output_type": "execute_result"
    }
   ],
   "source": [
    "page1=requests.get('https://presidentofindia.nic.in/former-presidents.htm')\n",
    "page1"
   ]
  },
  {
   "cell_type": "code",
   "execution_count": 15,
   "id": "b8437a79",
   "metadata": {},
   "outputs": [],
   "source": [
    "soup1=BeautifulSoup(page1.content)"
   ]
  },
  {
   "cell_type": "code",
   "execution_count": 57,
   "id": "c21af54a",
   "metadata": {},
   "outputs": [
    {
     "data": {
      "text/plain": [
       "['Shri Ram Nath Kovind (birth - 1945)',\n",
       " 'Shri Pranab Mukherjee (1935-2020)',\n",
       " 'Smt Pratibha Devisingh Patil (birth - 1934)',\n",
       " 'DR. A.P.J. Abdul Kalam (1931-2015)',\n",
       " 'Shri K. R. Narayanan (1920 - 2005)',\n",
       " 'Dr Shankar Dayal Sharma (1918-1999)',\n",
       " 'Shri R Venkataraman (1910-2009)',\n",
       " 'Giani Zail Singh (1916-1994)',\n",
       " 'Shri Neelam Sanjiva Reddy (1913-1996)',\n",
       " 'Dr. Fakhruddin Ali Ahmed (1905-1977)',\n",
       " 'Shri Varahagiri Venkata Giri (1894-1980)',\n",
       " 'Dr. Zakir Husain (1897-1969)',\n",
       " 'Dr. Sarvepalli Radhakrishnan (1888-1975)',\n",
       " 'Dr. Rajendra Prasad (1884-1963) ']"
      ]
     },
     "execution_count": 57,
     "metadata": {},
     "output_type": "execute_result"
    }
   ],
   "source": [
    "name=[]\n",
    "for i in soup1.find_all('div',class_=\"presidentListing\"):\n",
    "    name.append(i.text.split('\\n')[1])\n",
    "    \n",
    "name"
   ]
  },
  {
   "cell_type": "code",
   "execution_count": 72,
   "id": "cdffb801",
   "metadata": {},
   "outputs": [
    {
     "data": {
      "text/plain": [
       "['Term of Office: 25 July, 2017 to 25 July, 2022 ',\n",
       " 'Term of Office: 25 July, 2012 to 25 July, 2017 ',\n",
       " 'Term of Office: 25 July, 2007 to 25 July, 2012 ',\n",
       " 'Term of Office: 25 July, 2002 to 25 July, 2007 ',\n",
       " 'Term of Office: 25 July, 1997 to 25 July, 2002 ',\n",
       " 'Term of Office: 25 July, 1992 to 25 July, 1997 ',\n",
       " 'Term of Office: 25 July, 1987 to 25 July, 1992 ',\n",
       " 'Term of Office: 25 July, 1982 to 25 July, 1987 ',\n",
       " 'Term of Office: 25 July, 1977 to 25 July, 1982 ',\n",
       " 'Term of Office: 24 August, 1974 to 11 February, 1977',\n",
       " 'Term of Office: 3 May, 1969 to 20 July, 1969 and 24 August, 1969 to 24 August, 1974',\n",
       " 'Term of Office: 13 May, 1967 to 3 May, 1969',\n",
       " 'Term of Office: 13 May, 1962 to 13 May, 1967',\n",
       " 'Term of Office: 26 January, 1950 to 13 May, 1962']"
      ]
     },
     "execution_count": 72,
     "metadata": {},
     "output_type": "execute_result"
    }
   ],
   "source": [
    "term_of_office=[]\n",
    "for i in soup1.find_all('div',class_=\"presidentListing\"):\n",
    "    term_of_office.append(i.text.split('\\n')[2])\n",
    "    \n",
    "term_of_office"
   ]
  },
  {
   "cell_type": "code",
   "execution_count": 73,
   "id": "7a14a9a8",
   "metadata": {},
   "outputs": [
    {
     "data": {
      "text/html": [
       "<div>\n",
       "<style scoped>\n",
       "    .dataframe tbody tr th:only-of-type {\n",
       "        vertical-align: middle;\n",
       "    }\n",
       "\n",
       "    .dataframe tbody tr th {\n",
       "        vertical-align: top;\n",
       "    }\n",
       "\n",
       "    .dataframe thead th {\n",
       "        text-align: right;\n",
       "    }\n",
       "</style>\n",
       "<table border=\"1\" class=\"dataframe\">\n",
       "  <thead>\n",
       "    <tr style=\"text-align: right;\">\n",
       "      <th></th>\n",
       "      <th>president name</th>\n",
       "      <th>term of office</th>\n",
       "    </tr>\n",
       "  </thead>\n",
       "  <tbody>\n",
       "    <tr>\n",
       "      <th>0</th>\n",
       "      <td>Shri Ram Nath Kovind (birth - 1945)</td>\n",
       "      <td>Term of Office: 25 July, 2017 to 25 July, 2022</td>\n",
       "    </tr>\n",
       "    <tr>\n",
       "      <th>1</th>\n",
       "      <td>Shri Pranab Mukherjee (1935-2020)</td>\n",
       "      <td>Term of Office: 25 July, 2012 to 25 July, 2017</td>\n",
       "    </tr>\n",
       "    <tr>\n",
       "      <th>2</th>\n",
       "      <td>Smt Pratibha Devisingh Patil (birth - 1934)</td>\n",
       "      <td>Term of Office: 25 July, 2007 to 25 July, 2012</td>\n",
       "    </tr>\n",
       "    <tr>\n",
       "      <th>3</th>\n",
       "      <td>DR. A.P.J. Abdul Kalam (1931-2015)</td>\n",
       "      <td>Term of Office: 25 July, 2002 to 25 July, 2007</td>\n",
       "    </tr>\n",
       "    <tr>\n",
       "      <th>4</th>\n",
       "      <td>Shri K. R. Narayanan (1920 - 2005)</td>\n",
       "      <td>Term of Office: 25 July, 1997 to 25 July, 2002</td>\n",
       "    </tr>\n",
       "    <tr>\n",
       "      <th>5</th>\n",
       "      <td>Dr Shankar Dayal Sharma (1918-1999)</td>\n",
       "      <td>Term of Office: 25 July, 1992 to 25 July, 1997</td>\n",
       "    </tr>\n",
       "    <tr>\n",
       "      <th>6</th>\n",
       "      <td>Shri R Venkataraman (1910-2009)</td>\n",
       "      <td>Term of Office: 25 July, 1987 to 25 July, 1992</td>\n",
       "    </tr>\n",
       "    <tr>\n",
       "      <th>7</th>\n",
       "      <td>Giani Zail Singh (1916-1994)</td>\n",
       "      <td>Term of Office: 25 July, 1982 to 25 July, 1987</td>\n",
       "    </tr>\n",
       "    <tr>\n",
       "      <th>8</th>\n",
       "      <td>Shri Neelam Sanjiva Reddy (1913-1996)</td>\n",
       "      <td>Term of Office: 25 July, 1977 to 25 July, 1982</td>\n",
       "    </tr>\n",
       "    <tr>\n",
       "      <th>9</th>\n",
       "      <td>Dr. Fakhruddin Ali Ahmed (1905-1977)</td>\n",
       "      <td>Term of Office: 24 August, 1974 to 11 February...</td>\n",
       "    </tr>\n",
       "    <tr>\n",
       "      <th>10</th>\n",
       "      <td>Shri Varahagiri Venkata Giri (1894-1980)</td>\n",
       "      <td>Term of Office: 3 May, 1969 to 20 July, 1969 a...</td>\n",
       "    </tr>\n",
       "    <tr>\n",
       "      <th>11</th>\n",
       "      <td>Dr. Zakir Husain (1897-1969)</td>\n",
       "      <td>Term of Office: 13 May, 1967 to 3 May, 1969</td>\n",
       "    </tr>\n",
       "    <tr>\n",
       "      <th>12</th>\n",
       "      <td>Dr. Sarvepalli Radhakrishnan (1888-1975)</td>\n",
       "      <td>Term of Office: 13 May, 1962 to 13 May, 1967</td>\n",
       "    </tr>\n",
       "    <tr>\n",
       "      <th>13</th>\n",
       "      <td>Dr. Rajendra Prasad (1884-1963)</td>\n",
       "      <td>Term of Office: 26 January, 1950 to 13 May, 1962</td>\n",
       "    </tr>\n",
       "  </tbody>\n",
       "</table>\n",
       "</div>"
      ],
      "text/plain": [
       "                                 president name  \\\n",
       "0           Shri Ram Nath Kovind (birth - 1945)   \n",
       "1             Shri Pranab Mukherjee (1935-2020)   \n",
       "2   Smt Pratibha Devisingh Patil (birth - 1934)   \n",
       "3            DR. A.P.J. Abdul Kalam (1931-2015)   \n",
       "4            Shri K. R. Narayanan (1920 - 2005)   \n",
       "5           Dr Shankar Dayal Sharma (1918-1999)   \n",
       "6               Shri R Venkataraman (1910-2009)   \n",
       "7                  Giani Zail Singh (1916-1994)   \n",
       "8         Shri Neelam Sanjiva Reddy (1913-1996)   \n",
       "9          Dr. Fakhruddin Ali Ahmed (1905-1977)   \n",
       "10     Shri Varahagiri Venkata Giri (1894-1980)   \n",
       "11                 Dr. Zakir Husain (1897-1969)   \n",
       "12     Dr. Sarvepalli Radhakrishnan (1888-1975)   \n",
       "13             Dr. Rajendra Prasad (1884-1963)    \n",
       "\n",
       "                                       term of office  \n",
       "0     Term of Office: 25 July, 2017 to 25 July, 2022   \n",
       "1     Term of Office: 25 July, 2012 to 25 July, 2017   \n",
       "2     Term of Office: 25 July, 2007 to 25 July, 2012   \n",
       "3     Term of Office: 25 July, 2002 to 25 July, 2007   \n",
       "4     Term of Office: 25 July, 1997 to 25 July, 2002   \n",
       "5     Term of Office: 25 July, 1992 to 25 July, 1997   \n",
       "6     Term of Office: 25 July, 1987 to 25 July, 1992   \n",
       "7     Term of Office: 25 July, 1982 to 25 July, 1987   \n",
       "8     Term of Office: 25 July, 1977 to 25 July, 1982   \n",
       "9   Term of Office: 24 August, 1974 to 11 February...  \n",
       "10  Term of Office: 3 May, 1969 to 20 July, 1969 a...  \n",
       "11        Term of Office: 13 May, 1967 to 3 May, 1969  \n",
       "12       Term of Office: 13 May, 1962 to 13 May, 1967  \n",
       "13   Term of Office: 26 January, 1950 to 13 May, 1962  "
      ]
     },
     "execution_count": 73,
     "metadata": {},
     "output_type": "execute_result"
    }
   ],
   "source": [
    "df1=pd.DataFrame({'president name':name,'term of office':term_of_office})\n",
    "df1"
   ]
  },
  {
   "cell_type": "markdown",
   "id": "0f6681d9",
   "metadata": {},
   "source": [
    "question no 3(a)"
   ]
  },
  {
   "cell_type": "code",
   "execution_count": 6,
   "id": "700fa929",
   "metadata": {},
   "outputs": [
    {
     "data": {
      "text/plain": [
       "<Response [200]>"
      ]
     },
     "execution_count": 6,
     "metadata": {},
     "output_type": "execute_result"
    }
   ],
   "source": [
    "page2=requests.get('https://www.icc-cricket.com/rankings/mens/team-rankings/odi')\n",
    "page2"
   ]
  },
  {
   "cell_type": "code",
   "execution_count": 7,
   "id": "823cde02",
   "metadata": {},
   "outputs": [],
   "source": [
    "soup2=BeautifulSoup(page2.content)"
   ]
  },
  {
   "cell_type": "code",
   "execution_count": 10,
   "id": "26875c61",
   "metadata": {},
   "outputs": [
    {
     "data": {
      "text/plain": [
       "['Australia',\n",
       " 'Pakistan',\n",
       " 'India',\n",
       " 'New Zealand',\n",
       " 'England',\n",
       " 'South Africa',\n",
       " 'Bangladesh',\n",
       " 'Sri Lanka',\n",
       " 'Afghanistan',\n",
       " 'West Indies',\n",
       " 'Zimbabwe',\n",
       " 'Scotland',\n",
       " 'Ireland',\n",
       " 'Nepal',\n",
       " 'Netherlands',\n",
       " 'United States',\n",
       " 'Namibia',\n",
       " 'Oman',\n",
       " 'UAE',\n",
       " 'Papua New Guinea']"
      ]
     },
     "execution_count": 10,
     "metadata": {},
     "output_type": "execute_result"
    }
   ],
   "source": [
    "top_10_ODI_teams=[]\n",
    "for i in soup2.find_all('span',class_=\"u-hide-phablet\"):\n",
    "    top_10_ODI_teams.append(i.text)\n",
    "    \n",
    "top_10_ODI_teams"
   ]
  },
  {
   "cell_type": "code",
   "execution_count": 21,
   "id": "f6ed8398",
   "metadata": {},
   "outputs": [
    {
     "data": {
      "text/plain": [
       "['23']"
      ]
     },
     "execution_count": 21,
     "metadata": {},
     "output_type": "execute_result"
    }
   ],
   "source": [
    "matches=[]\n",
    "for i in soup2.find_all('td',class_=\"rankings-block__banner--matches\"):\n",
    "    matches.append(i.text)\n",
    "    \n",
    "matches"
   ]
  },
  {
   "cell_type": "code",
   "execution_count": 48,
   "id": "2c030fec",
   "metadata": {},
   "outputs": [
    {
     "data": {
      "text/plain": [
       "['20',\n",
       " '33',\n",
       " '27',\n",
       " '24',\n",
       " '19',\n",
       " '25',\n",
       " '28',\n",
       " '13',\n",
       " '32',\n",
       " '27',\n",
       " '30',\n",
       " '22',\n",
       " '38',\n",
       " '24',\n",
       " '29',\n",
       " '28',\n",
       " '21',\n",
       " '39',\n",
       " '28']"
      ]
     },
     "execution_count": 48,
     "metadata": {},
     "output_type": "execute_result"
    }
   ],
   "source": [
    "matches1=[]\n",
    "for i in soup2.find_all('tr',class_=\"table-body\"):\n",
    "    matches1.append(i.text.split('\\n')[7])\n",
    "    \n",
    "\n",
    "matches1"
   ]
  },
  {
   "cell_type": "code",
   "execution_count": 49,
   "id": "d2fc2c97",
   "metadata": {},
   "outputs": [],
   "source": [
    "matches.extend(matches1)"
   ]
  },
  {
   "cell_type": "code",
   "execution_count": 50,
   "id": "9bad3b99",
   "metadata": {},
   "outputs": [
    {
     "data": {
      "text/plain": [
       "['23',\n",
       " '20',\n",
       " '33',\n",
       " '27',\n",
       " '24',\n",
       " '19',\n",
       " '25',\n",
       " '28',\n",
       " '13',\n",
       " '32',\n",
       " '27',\n",
       " '30',\n",
       " '22',\n",
       " '38',\n",
       " '24',\n",
       " '29',\n",
       " '28',\n",
       " '21',\n",
       " '39',\n",
       " '28']"
      ]
     },
     "execution_count": 50,
     "metadata": {},
     "output_type": "execute_result"
    }
   ],
   "source": [
    "matches"
   ]
  },
  {
   "cell_type": "code",
   "execution_count": 53,
   "id": "60400cf0",
   "metadata": {},
   "outputs": [
    {
     "data": {
      "text/plain": [
       "['2,714']"
      ]
     },
     "execution_count": 53,
     "metadata": {},
     "output_type": "execute_result"
    }
   ],
   "source": [
    "points=[]\n",
    "for i in soup2.find_all('td',class_=\"rankings-block__banner--points\"):\n",
    "    points.append(i.text)\n",
    "    \n",
    "points"
   ]
  },
  {
   "cell_type": "code",
   "execution_count": 55,
   "id": "66f5c265",
   "metadata": {},
   "outputs": [
    {
     "data": {
      "text/plain": [
       "['2,316',\n",
       " '3,807',\n",
       " '2,806',\n",
       " '2,426',\n",
       " '1,910',\n",
       " '2,451',\n",
       " '2,378',\n",
       " '1,067',\n",
       " '2,201',\n",
       " '1,530',\n",
       " '1,451',\n",
       " '887',\n",
       " '1,340',\n",
       " '816',\n",
       " '855',\n",
       " '813',\n",
       " '522',\n",
       " '554',\n",
       " '106']"
      ]
     },
     "execution_count": 55,
     "metadata": {},
     "output_type": "execute_result"
    }
   ],
   "source": [
    "points1=[]\n",
    "for i in soup2.find_all('tr',class_=\"table-body\"):\n",
    "    points1.append(i.text.split('\\n')[8])\n",
    "    \n",
    "points1"
   ]
  },
  {
   "cell_type": "code",
   "execution_count": 56,
   "id": "2cb20e32",
   "metadata": {},
   "outputs": [],
   "source": [
    "points.extend(points1)"
   ]
  },
  {
   "cell_type": "code",
   "execution_count": 57,
   "id": "5d885e00",
   "metadata": {},
   "outputs": [
    {
     "data": {
      "text/plain": [
       "['2,714',\n",
       " '2,316',\n",
       " '3,807',\n",
       " '2,806',\n",
       " '2,426',\n",
       " '1,910',\n",
       " '2,451',\n",
       " '2,378',\n",
       " '1,067',\n",
       " '2,201',\n",
       " '1,530',\n",
       " '1,451',\n",
       " '887',\n",
       " '1,340',\n",
       " '816',\n",
       " '855',\n",
       " '813',\n",
       " '522',\n",
       " '554',\n",
       " '106']"
      ]
     },
     "execution_count": 57,
     "metadata": {},
     "output_type": "execute_result"
    }
   ],
   "source": [
    "points"
   ]
  },
  {
   "cell_type": "code",
   "execution_count": 89,
   "id": "279938a4",
   "metadata": {},
   "outputs": [
    {
     "data": {
      "text/plain": [
       "['                            118']"
      ]
     },
     "execution_count": 89,
     "metadata": {},
     "output_type": "execute_result"
    }
   ],
   "source": [
    "rating=[]\n",
    "for i in soup2.find_all('td',class_=\"rankings-block__banner--rating\"):\n",
    "    rating.append(i.text.split('\\n')[1])\n",
    "    \n",
    "rating"
   ]
  },
  {
   "cell_type": "code",
   "execution_count": 92,
   "id": "139f5214",
   "metadata": {},
   "outputs": [
    {
     "data": {
      "text/plain": [
       "['116',\n",
       " '115',\n",
       " '104',\n",
       " '101',\n",
       " '101',\n",
       " '98',\n",
       " '85',\n",
       " '82',\n",
       " '69',\n",
       " '57',\n",
       " '48',\n",
       " '40',\n",
       " '35',\n",
       " '34',\n",
       " '29',\n",
       " '29',\n",
       " '25',\n",
       " '14',\n",
       " '4']"
      ]
     },
     "execution_count": 92,
     "metadata": {},
     "output_type": "execute_result"
    }
   ],
   "source": [
    "rating1=[]\n",
    "for i in soup2.find_all('tr',class_=\"table-body\"):\n",
    "    rating1.append(i.text.split('\\n')[9])\n",
    "    \n",
    "rating1"
   ]
  },
  {
   "cell_type": "code",
   "execution_count": 100,
   "id": "364c1f00",
   "metadata": {},
   "outputs": [],
   "source": [
    "rating.extend(rating1)"
   ]
  },
  {
   "cell_type": "code",
   "execution_count": 104,
   "id": "3b253d52",
   "metadata": {},
   "outputs": [
    {
     "data": {
      "text/plain": [
       "['118',\n",
       " '116',\n",
       " '115',\n",
       " '104',\n",
       " '101',\n",
       " '101',\n",
       " '98',\n",
       " '85',\n",
       " '82',\n",
       " '69',\n",
       " '57',\n",
       " '48',\n",
       " '40',\n",
       " '35',\n",
       " '34',\n",
       " '29',\n",
       " '29',\n",
       " '25',\n",
       " '14',\n",
       " '4']"
      ]
     },
     "execution_count": 104,
     "metadata": {},
     "output_type": "execute_result"
    }
   ],
   "source": [
    "rating"
   ]
  },
  {
   "cell_type": "code",
   "execution_count": 105,
   "id": "e813f9af",
   "metadata": {},
   "outputs": [],
   "source": [
    "df2=pd.DataFrame({'top 10 ODI teams':top_10_ODI_teams,'matches':matches,'points':points,'rating':rating})"
   ]
  },
  {
   "cell_type": "code",
   "execution_count": 106,
   "id": "1647b201",
   "metadata": {},
   "outputs": [
    {
     "data": {
      "text/html": [
       "<div>\n",
       "<style scoped>\n",
       "    .dataframe tbody tr th:only-of-type {\n",
       "        vertical-align: middle;\n",
       "    }\n",
       "\n",
       "    .dataframe tbody tr th {\n",
       "        vertical-align: top;\n",
       "    }\n",
       "\n",
       "    .dataframe thead th {\n",
       "        text-align: right;\n",
       "    }\n",
       "</style>\n",
       "<table border=\"1\" class=\"dataframe\">\n",
       "  <thead>\n",
       "    <tr style=\"text-align: right;\">\n",
       "      <th></th>\n",
       "      <th>top 10 ODI teams</th>\n",
       "      <th>matches</th>\n",
       "      <th>points</th>\n",
       "      <th>rating</th>\n",
       "    </tr>\n",
       "  </thead>\n",
       "  <tbody>\n",
       "    <tr>\n",
       "      <th>0</th>\n",
       "      <td>Australia</td>\n",
       "      <td>23</td>\n",
       "      <td>2,714</td>\n",
       "      <td>118</td>\n",
       "    </tr>\n",
       "    <tr>\n",
       "      <th>1</th>\n",
       "      <td>Pakistan</td>\n",
       "      <td>20</td>\n",
       "      <td>2,316</td>\n",
       "      <td>116</td>\n",
       "    </tr>\n",
       "    <tr>\n",
       "      <th>2</th>\n",
       "      <td>India</td>\n",
       "      <td>33</td>\n",
       "      <td>3,807</td>\n",
       "      <td>115</td>\n",
       "    </tr>\n",
       "    <tr>\n",
       "      <th>3</th>\n",
       "      <td>New Zealand</td>\n",
       "      <td>27</td>\n",
       "      <td>2,806</td>\n",
       "      <td>104</td>\n",
       "    </tr>\n",
       "    <tr>\n",
       "      <th>4</th>\n",
       "      <td>England</td>\n",
       "      <td>24</td>\n",
       "      <td>2,426</td>\n",
       "      <td>101</td>\n",
       "    </tr>\n",
       "    <tr>\n",
       "      <th>5</th>\n",
       "      <td>South Africa</td>\n",
       "      <td>19</td>\n",
       "      <td>1,910</td>\n",
       "      <td>101</td>\n",
       "    </tr>\n",
       "    <tr>\n",
       "      <th>6</th>\n",
       "      <td>Bangladesh</td>\n",
       "      <td>25</td>\n",
       "      <td>2,451</td>\n",
       "      <td>98</td>\n",
       "    </tr>\n",
       "    <tr>\n",
       "      <th>7</th>\n",
       "      <td>Sri Lanka</td>\n",
       "      <td>28</td>\n",
       "      <td>2,378</td>\n",
       "      <td>85</td>\n",
       "    </tr>\n",
       "    <tr>\n",
       "      <th>8</th>\n",
       "      <td>Afghanistan</td>\n",
       "      <td>13</td>\n",
       "      <td>1,067</td>\n",
       "      <td>82</td>\n",
       "    </tr>\n",
       "    <tr>\n",
       "      <th>9</th>\n",
       "      <td>West Indies</td>\n",
       "      <td>32</td>\n",
       "      <td>2,201</td>\n",
       "      <td>69</td>\n",
       "    </tr>\n",
       "    <tr>\n",
       "      <th>10</th>\n",
       "      <td>Zimbabwe</td>\n",
       "      <td>27</td>\n",
       "      <td>1,530</td>\n",
       "      <td>57</td>\n",
       "    </tr>\n",
       "    <tr>\n",
       "      <th>11</th>\n",
       "      <td>Scotland</td>\n",
       "      <td>30</td>\n",
       "      <td>1,451</td>\n",
       "      <td>48</td>\n",
       "    </tr>\n",
       "    <tr>\n",
       "      <th>12</th>\n",
       "      <td>Ireland</td>\n",
       "      <td>22</td>\n",
       "      <td>887</td>\n",
       "      <td>40</td>\n",
       "    </tr>\n",
       "    <tr>\n",
       "      <th>13</th>\n",
       "      <td>Nepal</td>\n",
       "      <td>38</td>\n",
       "      <td>1,340</td>\n",
       "      <td>35</td>\n",
       "    </tr>\n",
       "    <tr>\n",
       "      <th>14</th>\n",
       "      <td>Netherlands</td>\n",
       "      <td>24</td>\n",
       "      <td>816</td>\n",
       "      <td>34</td>\n",
       "    </tr>\n",
       "    <tr>\n",
       "      <th>15</th>\n",
       "      <td>United States</td>\n",
       "      <td>29</td>\n",
       "      <td>855</td>\n",
       "      <td>29</td>\n",
       "    </tr>\n",
       "    <tr>\n",
       "      <th>16</th>\n",
       "      <td>Namibia</td>\n",
       "      <td>28</td>\n",
       "      <td>813</td>\n",
       "      <td>29</td>\n",
       "    </tr>\n",
       "    <tr>\n",
       "      <th>17</th>\n",
       "      <td>Oman</td>\n",
       "      <td>21</td>\n",
       "      <td>522</td>\n",
       "      <td>25</td>\n",
       "    </tr>\n",
       "    <tr>\n",
       "      <th>18</th>\n",
       "      <td>UAE</td>\n",
       "      <td>39</td>\n",
       "      <td>554</td>\n",
       "      <td>14</td>\n",
       "    </tr>\n",
       "    <tr>\n",
       "      <th>19</th>\n",
       "      <td>Papua New Guinea</td>\n",
       "      <td>28</td>\n",
       "      <td>106</td>\n",
       "      <td>4</td>\n",
       "    </tr>\n",
       "  </tbody>\n",
       "</table>\n",
       "</div>"
      ],
      "text/plain": [
       "    top 10 ODI teams matches points rating\n",
       "0          Australia      23  2,714    118\n",
       "1           Pakistan      20  2,316    116\n",
       "2              India      33  3,807    115\n",
       "3        New Zealand      27  2,806    104\n",
       "4            England      24  2,426    101\n",
       "5       South Africa      19  1,910    101\n",
       "6         Bangladesh      25  2,451     98\n",
       "7          Sri Lanka      28  2,378     85\n",
       "8        Afghanistan      13  1,067     82\n",
       "9        West Indies      32  2,201     69\n",
       "10          Zimbabwe      27  1,530     57\n",
       "11          Scotland      30  1,451     48\n",
       "12           Ireland      22    887     40\n",
       "13             Nepal      38  1,340     35\n",
       "14       Netherlands      24    816     34\n",
       "15     United States      29    855     29\n",
       "16           Namibia      28    813     29\n",
       "17              Oman      21    522     25\n",
       "18               UAE      39    554     14\n",
       "19  Papua New Guinea      28    106      4"
      ]
     },
     "execution_count": 106,
     "metadata": {},
     "output_type": "execute_result"
    }
   ],
   "source": [
    "df2"
   ]
  },
  {
   "cell_type": "code",
   "execution_count": 107,
   "id": "ff2996e5",
   "metadata": {},
   "outputs": [
    {
     "data": {
      "text/html": [
       "<div>\n",
       "<style scoped>\n",
       "    .dataframe tbody tr th:only-of-type {\n",
       "        vertical-align: middle;\n",
       "    }\n",
       "\n",
       "    .dataframe tbody tr th {\n",
       "        vertical-align: top;\n",
       "    }\n",
       "\n",
       "    .dataframe thead th {\n",
       "        text-align: right;\n",
       "    }\n",
       "</style>\n",
       "<table border=\"1\" class=\"dataframe\">\n",
       "  <thead>\n",
       "    <tr style=\"text-align: right;\">\n",
       "      <th></th>\n",
       "      <th>top 10 ODI teams</th>\n",
       "      <th>matches</th>\n",
       "      <th>points</th>\n",
       "      <th>rating</th>\n",
       "    </tr>\n",
       "  </thead>\n",
       "  <tbody>\n",
       "    <tr>\n",
       "      <th>0</th>\n",
       "      <td>Australia</td>\n",
       "      <td>23</td>\n",
       "      <td>2,714</td>\n",
       "      <td>118</td>\n",
       "    </tr>\n",
       "    <tr>\n",
       "      <th>1</th>\n",
       "      <td>Pakistan</td>\n",
       "      <td>20</td>\n",
       "      <td>2,316</td>\n",
       "      <td>116</td>\n",
       "    </tr>\n",
       "    <tr>\n",
       "      <th>2</th>\n",
       "      <td>India</td>\n",
       "      <td>33</td>\n",
       "      <td>3,807</td>\n",
       "      <td>115</td>\n",
       "    </tr>\n",
       "    <tr>\n",
       "      <th>3</th>\n",
       "      <td>New Zealand</td>\n",
       "      <td>27</td>\n",
       "      <td>2,806</td>\n",
       "      <td>104</td>\n",
       "    </tr>\n",
       "    <tr>\n",
       "      <th>4</th>\n",
       "      <td>England</td>\n",
       "      <td>24</td>\n",
       "      <td>2,426</td>\n",
       "      <td>101</td>\n",
       "    </tr>\n",
       "    <tr>\n",
       "      <th>5</th>\n",
       "      <td>South Africa</td>\n",
       "      <td>19</td>\n",
       "      <td>1,910</td>\n",
       "      <td>101</td>\n",
       "    </tr>\n",
       "    <tr>\n",
       "      <th>6</th>\n",
       "      <td>Bangladesh</td>\n",
       "      <td>25</td>\n",
       "      <td>2,451</td>\n",
       "      <td>98</td>\n",
       "    </tr>\n",
       "    <tr>\n",
       "      <th>7</th>\n",
       "      <td>Sri Lanka</td>\n",
       "      <td>28</td>\n",
       "      <td>2,378</td>\n",
       "      <td>85</td>\n",
       "    </tr>\n",
       "    <tr>\n",
       "      <th>8</th>\n",
       "      <td>Afghanistan</td>\n",
       "      <td>13</td>\n",
       "      <td>1,067</td>\n",
       "      <td>82</td>\n",
       "    </tr>\n",
       "    <tr>\n",
       "      <th>9</th>\n",
       "      <td>West Indies</td>\n",
       "      <td>32</td>\n",
       "      <td>2,201</td>\n",
       "      <td>69</td>\n",
       "    </tr>\n",
       "  </tbody>\n",
       "</table>\n",
       "</div>"
      ],
      "text/plain": [
       "  top 10 ODI teams matches points rating\n",
       "0        Australia      23  2,714    118\n",
       "1         Pakistan      20  2,316    116\n",
       "2            India      33  3,807    115\n",
       "3      New Zealand      27  2,806    104\n",
       "4          England      24  2,426    101\n",
       "5     South Africa      19  1,910    101\n",
       "6       Bangladesh      25  2,451     98\n",
       "7        Sri Lanka      28  2,378     85\n",
       "8      Afghanistan      13  1,067     82\n",
       "9      West Indies      32  2,201     69"
      ]
     },
     "execution_count": 107,
     "metadata": {},
     "output_type": "execute_result"
    }
   ],
   "source": [
    "df2.iloc[0:10,:]"
   ]
  },
  {
   "cell_type": "markdown",
   "id": "499c41c3",
   "metadata": {},
   "source": [
    "question no 3(b)"
   ]
  },
  {
   "cell_type": "code",
   "execution_count": 3,
   "id": "18a8b38c",
   "metadata": {},
   "outputs": [],
   "source": [
    "page=requests.get('https://www.icc-cricket.com/rankings/mens/player-rankings/odi')"
   ]
  },
  {
   "cell_type": "code",
   "execution_count": 4,
   "id": "9264395f",
   "metadata": {},
   "outputs": [
    {
     "data": {
      "text/plain": [
       "<Response [200]>"
      ]
     },
     "execution_count": 4,
     "metadata": {},
     "output_type": "execute_result"
    }
   ],
   "source": [
    "page"
   ]
  },
  {
   "cell_type": "code",
   "execution_count": 7,
   "id": "b746cfbb",
   "metadata": {},
   "outputs": [],
   "source": [
    "soup4=BeautifulSoup(page.content)"
   ]
  },
  {
   "cell_type": "code",
   "execution_count": 8,
   "id": "7157d6c3",
   "metadata": {},
   "outputs": [],
   "source": [
    "top_10_ODI_batsmen=[]\n",
    "for i in soup4.find_all('div',class_=\"rankings-block__banner--name\"):\n",
    "    top_10_ODI_batsmen.append(i.text)"
   ]
  },
  {
   "cell_type": "code",
   "execution_count": 9,
   "id": "aed1ed12",
   "metadata": {},
   "outputs": [
    {
     "data": {
      "text/plain": [
       "['Babar Azam',\n",
       " 'Josh Hazlewood',\n",
       " 'Shakib Al Hasan',\n",
       " 'Babar Azam',\n",
       " 'Josh Hazlewood',\n",
       " 'Shakib Al Hasan']"
      ]
     },
     "execution_count": 9,
     "metadata": {},
     "output_type": "execute_result"
    }
   ],
   "source": [
    "top_10_ODI_batsmen"
   ]
  },
  {
   "cell_type": "code",
   "execution_count": 22,
   "id": "419b91ec",
   "metadata": {},
   "outputs": [],
   "source": [
    "top_10_ODI_batsmen1=[]\n",
    "for i in soup4.find_all('td',class_=\"table-body__cell name\"):\n",
    "    top_10_ODI_batsmen1.append(i.text.split('\\n')[1])"
   ]
  },
  {
   "cell_type": "code",
   "execution_count": 23,
   "id": "9affc02c",
   "metadata": {},
   "outputs": [
    {
     "data": {
      "text/plain": [
       "['Rassie van der Dussen',\n",
       " 'Fakhar Zaman',\n",
       " 'Imam-ul-Haq',\n",
       " 'Shubman Gill',\n",
       " 'Harry Tector',\n",
       " 'David Warner',\n",
       " 'Virat Kohli',\n",
       " 'Quinton de Kock',\n",
       " 'Rohit Sharma',\n",
       " 'Mohammed Siraj',\n",
       " 'Mitchell Starc',\n",
       " 'Matt Henry',\n",
       " 'Trent Boult',\n",
       " 'Adam Zampa',\n",
       " 'Rashid Khan',\n",
       " 'Shaheen Afridi',\n",
       " 'Mujeeb Ur Rahman',\n",
       " 'Mohammad Nabi',\n",
       " 'Mohammad Nabi',\n",
       " 'Sikandar Raza',\n",
       " 'Rashid Khan',\n",
       " 'Assad Vala',\n",
       " 'Mehedi Hasan',\n",
       " 'Zeeshan Maqsood',\n",
       " 'Mitchell Santner',\n",
       " 'Wanindu Hasaranga',\n",
       " 'Chris Woakes',\n",
       " 'Rassie van der Dussen',\n",
       " 'Fakhar Zaman',\n",
       " 'Imam-ul-Haq',\n",
       " 'Shubman Gill',\n",
       " 'Harry Tector',\n",
       " 'David Warner',\n",
       " 'Virat Kohli',\n",
       " 'Quinton de Kock',\n",
       " 'Rohit Sharma',\n",
       " 'Mohammed Siraj',\n",
       " 'Mitchell Starc',\n",
       " 'Matt Henry',\n",
       " 'Trent Boult',\n",
       " 'Adam Zampa',\n",
       " 'Rashid Khan',\n",
       " 'Shaheen Afridi',\n",
       " 'Mujeeb Ur Rahman',\n",
       " 'Mohammad Nabi',\n",
       " 'Mohammad Nabi',\n",
       " 'Sikandar Raza',\n",
       " 'Rashid Khan',\n",
       " 'Assad Vala',\n",
       " 'Mehedi Hasan',\n",
       " 'Zeeshan Maqsood',\n",
       " 'Mitchell Santner',\n",
       " 'Wanindu Hasaranga',\n",
       " 'Chris Woakes']"
      ]
     },
     "execution_count": 23,
     "metadata": {},
     "output_type": "execute_result"
    }
   ],
   "source": [
    "top_10_ODI_batsmen1"
   ]
  },
  {
   "cell_type": "code",
   "execution_count": 24,
   "id": "6ca66984",
   "metadata": {},
   "outputs": [],
   "source": [
    "del top_10_ODI_batsmen[1:]"
   ]
  },
  {
   "cell_type": "code",
   "execution_count": 25,
   "id": "724ed0b7",
   "metadata": {},
   "outputs": [
    {
     "data": {
      "text/plain": [
       "['Babar Azam']"
      ]
     },
     "execution_count": 25,
     "metadata": {},
     "output_type": "execute_result"
    }
   ],
   "source": [
    "top_10_ODI_batsmen"
   ]
  },
  {
   "cell_type": "code",
   "execution_count": 26,
   "id": "106bdbd3",
   "metadata": {},
   "outputs": [],
   "source": [
    "del top_10_ODI_batsmen1[9:]"
   ]
  },
  {
   "cell_type": "code",
   "execution_count": 27,
   "id": "26a5125a",
   "metadata": {},
   "outputs": [
    {
     "data": {
      "text/plain": [
       "['Rassie van der Dussen',\n",
       " 'Fakhar Zaman',\n",
       " 'Imam-ul-Haq',\n",
       " 'Shubman Gill',\n",
       " 'Harry Tector',\n",
       " 'David Warner',\n",
       " 'Virat Kohli',\n",
       " 'Quinton de Kock',\n",
       " 'Rohit Sharma']"
      ]
     },
     "execution_count": 27,
     "metadata": {},
     "output_type": "execute_result"
    }
   ],
   "source": [
    "top_10_ODI_batsmen1"
   ]
  },
  {
   "cell_type": "code",
   "execution_count": 28,
   "id": "d0fe97ba",
   "metadata": {},
   "outputs": [],
   "source": [
    "top_10_ODI_batsmen.extend(top_10_ODI_batsmen1)"
   ]
  },
  {
   "cell_type": "code",
   "execution_count": 29,
   "id": "741acd61",
   "metadata": {},
   "outputs": [
    {
     "data": {
      "text/plain": [
       "['Babar Azam',\n",
       " 'Rassie van der Dussen',\n",
       " 'Fakhar Zaman',\n",
       " 'Imam-ul-Haq',\n",
       " 'Shubman Gill',\n",
       " 'Harry Tector',\n",
       " 'David Warner',\n",
       " 'Virat Kohli',\n",
       " 'Quinton de Kock',\n",
       " 'Rohit Sharma']"
      ]
     },
     "execution_count": 29,
     "metadata": {},
     "output_type": "execute_result"
    }
   ],
   "source": [
    "top_10_ODI_batsmen"
   ]
  },
  {
   "cell_type": "code",
   "execution_count": 32,
   "id": "94ea27ed",
   "metadata": {},
   "outputs": [],
   "source": [
    "team=[]\n",
    "for i in soup4.find_all('div',class_=\"rankings-block__banner--nationality\"):\n",
    "    team.append(i.text.split('\\n')[2])"
   ]
  },
  {
   "cell_type": "code",
   "execution_count": 33,
   "id": "d3fc6543",
   "metadata": {},
   "outputs": [
    {
     "data": {
      "text/plain": [
       "['PAK', 'AUS', 'BAN', 'PAK', 'AUS', 'BAN']"
      ]
     },
     "execution_count": 33,
     "metadata": {},
     "output_type": "execute_result"
    }
   ],
   "source": [
    "team"
   ]
  },
  {
   "cell_type": "code",
   "execution_count": 34,
   "id": "c906b433",
   "metadata": {},
   "outputs": [],
   "source": [
    "del team[1:]"
   ]
  },
  {
   "cell_type": "code",
   "execution_count": 35,
   "id": "a9a5b5a4",
   "metadata": {},
   "outputs": [
    {
     "data": {
      "text/plain": [
       "['PAK']"
      ]
     },
     "execution_count": 35,
     "metadata": {},
     "output_type": "execute_result"
    }
   ],
   "source": [
    "team"
   ]
  },
  {
   "cell_type": "code",
   "execution_count": 36,
   "id": "1050f7a1",
   "metadata": {},
   "outputs": [],
   "source": [
    "team1=[]\n",
    "for i in soup4.find_all('span',class_=\"table-body__logo-text\"):\n",
    "    team1.append(i.text)"
   ]
  },
  {
   "cell_type": "code",
   "execution_count": 37,
   "id": "36219396",
   "metadata": {},
   "outputs": [
    {
     "data": {
      "text/plain": [
       "['SA',\n",
       " 'PAK',\n",
       " 'PAK',\n",
       " 'IND',\n",
       " 'IRE',\n",
       " 'AUS',\n",
       " 'IND',\n",
       " 'SA',\n",
       " 'IND',\n",
       " 'IND',\n",
       " 'AUS',\n",
       " 'NZ',\n",
       " 'NZ',\n",
       " 'AUS',\n",
       " 'AFG',\n",
       " 'PAK',\n",
       " 'AFG',\n",
       " 'AFG',\n",
       " 'AFG',\n",
       " 'ZIM',\n",
       " 'AFG',\n",
       " 'PNG',\n",
       " 'BAN',\n",
       " 'OMA',\n",
       " 'NZ',\n",
       " 'SL',\n",
       " 'ENG',\n",
       " 'SA',\n",
       " 'PAK',\n",
       " 'PAK',\n",
       " 'IND',\n",
       " 'IRE',\n",
       " 'AUS',\n",
       " 'IND',\n",
       " 'SA',\n",
       " 'IND',\n",
       " 'IND',\n",
       " 'AUS',\n",
       " 'NZ',\n",
       " 'NZ',\n",
       " 'AUS',\n",
       " 'AFG',\n",
       " 'PAK',\n",
       " 'AFG',\n",
       " 'AFG',\n",
       " 'AFG',\n",
       " 'ZIM',\n",
       " 'AFG',\n",
       " 'PNG',\n",
       " 'BAN',\n",
       " 'OMA',\n",
       " 'NZ',\n",
       " 'SL',\n",
       " 'ENG']"
      ]
     },
     "execution_count": 37,
     "metadata": {},
     "output_type": "execute_result"
    }
   ],
   "source": [
    "team1"
   ]
  },
  {
   "cell_type": "code",
   "execution_count": 40,
   "id": "2d4437ef",
   "metadata": {},
   "outputs": [],
   "source": [
    "del team1[9:]"
   ]
  },
  {
   "cell_type": "code",
   "execution_count": 41,
   "id": "e899e512",
   "metadata": {},
   "outputs": [
    {
     "data": {
      "text/plain": [
       "['SA', 'PAK', 'PAK', 'IND', 'IRE', 'AUS', 'IND', 'SA', 'IND']"
      ]
     },
     "execution_count": 41,
     "metadata": {},
     "output_type": "execute_result"
    }
   ],
   "source": [
    "team1"
   ]
  },
  {
   "cell_type": "code",
   "execution_count": 42,
   "id": "f42fd338",
   "metadata": {},
   "outputs": [],
   "source": [
    "team.extend(team1)"
   ]
  },
  {
   "cell_type": "code",
   "execution_count": 43,
   "id": "00c27aa2",
   "metadata": {},
   "outputs": [
    {
     "data": {
      "text/plain": [
       "['PAK', 'SA', 'PAK', 'PAK', 'IND', 'IRE', 'AUS', 'IND', 'SA', 'IND']"
      ]
     },
     "execution_count": 43,
     "metadata": {},
     "output_type": "execute_result"
    }
   ],
   "source": [
    "team"
   ]
  },
  {
   "cell_type": "code",
   "execution_count": 46,
   "id": "adc6b468",
   "metadata": {},
   "outputs": [],
   "source": [
    "rating=[]\n",
    "for i in soup4.find('div',class_=\"rankings-block__banner--rating\"):\n",
    "    rating.append(i.text)"
   ]
  },
  {
   "cell_type": "code",
   "execution_count": 47,
   "id": "da330295",
   "metadata": {},
   "outputs": [
    {
     "data": {
      "text/plain": [
       "['886']"
      ]
     },
     "execution_count": 47,
     "metadata": {},
     "output_type": "execute_result"
    }
   ],
   "source": [
    "rating"
   ]
  },
  {
   "cell_type": "code",
   "execution_count": 54,
   "id": "92d5c4ae",
   "metadata": {},
   "outputs": [],
   "source": [
    "rating1=[]\n",
    "for i in soup4.find_all('td',class_=\"table-body__cell u-text-right rating\"):\n",
    "    rating1.append(i.text)"
   ]
  },
  {
   "cell_type": "code",
   "execution_count": 55,
   "id": "3c601707",
   "metadata": {},
   "outputs": [
    {
     "data": {
      "text/plain": [
       "['777',\n",
       " '755',\n",
       " '745',\n",
       " '738',\n",
       " '726',\n",
       " '726',\n",
       " '719',\n",
       " '718',\n",
       " '707',\n",
       " '691',\n",
       " '686',\n",
       " '667',\n",
       " '660',\n",
       " '652',\n",
       " '640',\n",
       " '630',\n",
       " '630',\n",
       " '626',\n",
       " '305',\n",
       " '287',\n",
       " '261',\n",
       " '248',\n",
       " '244',\n",
       " '240',\n",
       " '234',\n",
       " '233',\n",
       " '215',\n",
       " '777',\n",
       " '755',\n",
       " '745',\n",
       " '738',\n",
       " '726',\n",
       " '726',\n",
       " '719',\n",
       " '718',\n",
       " '707',\n",
       " '691',\n",
       " '686',\n",
       " '667',\n",
       " '660',\n",
       " '652',\n",
       " '640',\n",
       " '630',\n",
       " '630',\n",
       " '626',\n",
       " '305',\n",
       " '287',\n",
       " '261',\n",
       " '248',\n",
       " '244',\n",
       " '240',\n",
       " '234',\n",
       " '233',\n",
       " '215']"
      ]
     },
     "execution_count": 55,
     "metadata": {},
     "output_type": "execute_result"
    }
   ],
   "source": [
    "rating1"
   ]
  },
  {
   "cell_type": "code",
   "execution_count": 56,
   "id": "43423153",
   "metadata": {},
   "outputs": [],
   "source": [
    "del rating1[9:]"
   ]
  },
  {
   "cell_type": "code",
   "execution_count": 57,
   "id": "78082dd4",
   "metadata": {},
   "outputs": [
    {
     "data": {
      "text/plain": [
       "['777', '755', '745', '738', '726', '726', '719', '718', '707']"
      ]
     },
     "execution_count": 57,
     "metadata": {},
     "output_type": "execute_result"
    }
   ],
   "source": [
    "rating1"
   ]
  },
  {
   "cell_type": "code",
   "execution_count": 58,
   "id": "845277fe",
   "metadata": {},
   "outputs": [],
   "source": [
    "rating.extend(rating1)"
   ]
  },
  {
   "cell_type": "code",
   "execution_count": 59,
   "id": "9aa755e3",
   "metadata": {},
   "outputs": [
    {
     "data": {
      "text/plain": [
       "['886', '777', '755', '745', '738', '726', '726', '719', '718', '707']"
      ]
     },
     "execution_count": 59,
     "metadata": {},
     "output_type": "execute_result"
    }
   ],
   "source": [
    "rating"
   ]
  },
  {
   "cell_type": "code",
   "execution_count": 60,
   "id": "3148e707",
   "metadata": {},
   "outputs": [],
   "source": [
    "df5=pd.DataFrame({'top_10_ODI_batsmen':top_10_ODI_batsmen,'team':team,'rating':rating})"
   ]
  },
  {
   "cell_type": "code",
   "execution_count": 61,
   "id": "d18383ab",
   "metadata": {},
   "outputs": [
    {
     "data": {
      "text/html": [
       "<div>\n",
       "<style scoped>\n",
       "    .dataframe tbody tr th:only-of-type {\n",
       "        vertical-align: middle;\n",
       "    }\n",
       "\n",
       "    .dataframe tbody tr th {\n",
       "        vertical-align: top;\n",
       "    }\n",
       "\n",
       "    .dataframe thead th {\n",
       "        text-align: right;\n",
       "    }\n",
       "</style>\n",
       "<table border=\"1\" class=\"dataframe\">\n",
       "  <thead>\n",
       "    <tr style=\"text-align: right;\">\n",
       "      <th></th>\n",
       "      <th>top_10_ODI_batsmen</th>\n",
       "      <th>team</th>\n",
       "      <th>rating</th>\n",
       "    </tr>\n",
       "  </thead>\n",
       "  <tbody>\n",
       "    <tr>\n",
       "      <th>0</th>\n",
       "      <td>Babar Azam</td>\n",
       "      <td>PAK</td>\n",
       "      <td>886</td>\n",
       "    </tr>\n",
       "    <tr>\n",
       "      <th>1</th>\n",
       "      <td>Rassie van der Dussen</td>\n",
       "      <td>SA</td>\n",
       "      <td>777</td>\n",
       "    </tr>\n",
       "    <tr>\n",
       "      <th>2</th>\n",
       "      <td>Fakhar Zaman</td>\n",
       "      <td>PAK</td>\n",
       "      <td>755</td>\n",
       "    </tr>\n",
       "    <tr>\n",
       "      <th>3</th>\n",
       "      <td>Imam-ul-Haq</td>\n",
       "      <td>PAK</td>\n",
       "      <td>745</td>\n",
       "    </tr>\n",
       "    <tr>\n",
       "      <th>4</th>\n",
       "      <td>Shubman Gill</td>\n",
       "      <td>IND</td>\n",
       "      <td>738</td>\n",
       "    </tr>\n",
       "    <tr>\n",
       "      <th>5</th>\n",
       "      <td>Harry Tector</td>\n",
       "      <td>IRE</td>\n",
       "      <td>726</td>\n",
       "    </tr>\n",
       "    <tr>\n",
       "      <th>6</th>\n",
       "      <td>David Warner</td>\n",
       "      <td>AUS</td>\n",
       "      <td>726</td>\n",
       "    </tr>\n",
       "    <tr>\n",
       "      <th>7</th>\n",
       "      <td>Virat Kohli</td>\n",
       "      <td>IND</td>\n",
       "      <td>719</td>\n",
       "    </tr>\n",
       "    <tr>\n",
       "      <th>8</th>\n",
       "      <td>Quinton de Kock</td>\n",
       "      <td>SA</td>\n",
       "      <td>718</td>\n",
       "    </tr>\n",
       "    <tr>\n",
       "      <th>9</th>\n",
       "      <td>Rohit Sharma</td>\n",
       "      <td>IND</td>\n",
       "      <td>707</td>\n",
       "    </tr>\n",
       "  </tbody>\n",
       "</table>\n",
       "</div>"
      ],
      "text/plain": [
       "      top_10_ODI_batsmen team rating\n",
       "0             Babar Azam  PAK    886\n",
       "1  Rassie van der Dussen   SA    777\n",
       "2           Fakhar Zaman  PAK    755\n",
       "3            Imam-ul-Haq  PAK    745\n",
       "4           Shubman Gill  IND    738\n",
       "5           Harry Tector  IRE    726\n",
       "6           David Warner  AUS    726\n",
       "7            Virat Kohli  IND    719\n",
       "8        Quinton de Kock   SA    718\n",
       "9           Rohit Sharma  IND    707"
      ]
     },
     "execution_count": 61,
     "metadata": {},
     "output_type": "execute_result"
    }
   ],
   "source": [
    "df5"
   ]
  },
  {
   "cell_type": "markdown",
   "id": "c309c0e0",
   "metadata": {},
   "source": [
    "question no 3(c)"
   ]
  },
  {
   "cell_type": "code",
   "execution_count": 70,
   "id": "0e503169",
   "metadata": {},
   "outputs": [],
   "source": [
    "top10_ODI_bowlers=[]\n",
    "for i in soup4.find_all('div',class_=\"rankings-block__banner--name\"):\n",
    "    top10_ODI_bowlers.append(i.text)"
   ]
  },
  {
   "cell_type": "code",
   "execution_count": 71,
   "id": "747fe020",
   "metadata": {},
   "outputs": [
    {
     "data": {
      "text/plain": [
       "['Babar Azam',\n",
       " 'Josh Hazlewood',\n",
       " 'Shakib Al Hasan',\n",
       " 'Babar Azam',\n",
       " 'Josh Hazlewood',\n",
       " 'Shakib Al Hasan']"
      ]
     },
     "execution_count": 71,
     "metadata": {},
     "output_type": "execute_result"
    }
   ],
   "source": [
    "top10_ODI_bowlers"
   ]
  },
  {
   "cell_type": "code",
   "execution_count": 73,
   "id": "60d0cce0",
   "metadata": {},
   "outputs": [],
   "source": [
    "del top10_ODI_bowlers[0]"
   ]
  },
  {
   "cell_type": "code",
   "execution_count": 74,
   "id": "92bd7c40",
   "metadata": {},
   "outputs": [],
   "source": [
    "del top10_ODI_bowlers[1:]"
   ]
  },
  {
   "cell_type": "code",
   "execution_count": 75,
   "id": "029f9030",
   "metadata": {},
   "outputs": [
    {
     "data": {
      "text/plain": [
       "['Josh Hazlewood']"
      ]
     },
     "execution_count": 75,
     "metadata": {},
     "output_type": "execute_result"
    }
   ],
   "source": [
    "top10_ODI_bowlers"
   ]
  },
  {
   "cell_type": "code",
   "execution_count": 81,
   "id": "c4886bb2",
   "metadata": {},
   "outputs": [],
   "source": [
    "top10_ODI_bowlers1=[]\n",
    "for i in soup4.find_all('td',class_=\"table-body__cell name\"):\n",
    "    top10_ODI_bowlers1.append(i.text.split('\\n')[1])"
   ]
  },
  {
   "cell_type": "code",
   "execution_count": 82,
   "id": "10a19e92",
   "metadata": {},
   "outputs": [
    {
     "data": {
      "text/plain": [
       "['Rassie van der Dussen',\n",
       " 'Fakhar Zaman',\n",
       " 'Imam-ul-Haq',\n",
       " 'Shubman Gill',\n",
       " 'Harry Tector',\n",
       " 'David Warner',\n",
       " 'Virat Kohli',\n",
       " 'Quinton de Kock',\n",
       " 'Rohit Sharma',\n",
       " 'Mohammed Siraj',\n",
       " 'Mitchell Starc',\n",
       " 'Matt Henry',\n",
       " 'Trent Boult',\n",
       " 'Adam Zampa',\n",
       " 'Rashid Khan',\n",
       " 'Shaheen Afridi',\n",
       " 'Mujeeb Ur Rahman',\n",
       " 'Mohammad Nabi',\n",
       " 'Mohammad Nabi',\n",
       " 'Sikandar Raza',\n",
       " 'Rashid Khan',\n",
       " 'Assad Vala',\n",
       " 'Mehedi Hasan',\n",
       " 'Zeeshan Maqsood',\n",
       " 'Mitchell Santner',\n",
       " 'Wanindu Hasaranga',\n",
       " 'Chris Woakes',\n",
       " 'Rassie van der Dussen',\n",
       " 'Fakhar Zaman',\n",
       " 'Imam-ul-Haq',\n",
       " 'Shubman Gill',\n",
       " 'Harry Tector',\n",
       " 'David Warner',\n",
       " 'Virat Kohli',\n",
       " 'Quinton de Kock',\n",
       " 'Rohit Sharma',\n",
       " 'Mohammed Siraj',\n",
       " 'Mitchell Starc',\n",
       " 'Matt Henry',\n",
       " 'Trent Boult',\n",
       " 'Adam Zampa',\n",
       " 'Rashid Khan',\n",
       " 'Shaheen Afridi',\n",
       " 'Mujeeb Ur Rahman',\n",
       " 'Mohammad Nabi',\n",
       " 'Mohammad Nabi',\n",
       " 'Sikandar Raza',\n",
       " 'Rashid Khan',\n",
       " 'Assad Vala',\n",
       " 'Mehedi Hasan',\n",
       " 'Zeeshan Maqsood',\n",
       " 'Mitchell Santner',\n",
       " 'Wanindu Hasaranga',\n",
       " 'Chris Woakes']"
      ]
     },
     "execution_count": 82,
     "metadata": {},
     "output_type": "execute_result"
    }
   ],
   "source": [
    "top10_ODI_bowlers1"
   ]
  },
  {
   "cell_type": "code",
   "execution_count": 83,
   "id": "c72e06c3",
   "metadata": {},
   "outputs": [],
   "source": [
    "del top10_ODI_bowlers1[0:9]"
   ]
  },
  {
   "cell_type": "code",
   "execution_count": 85,
   "id": "22d1fc94",
   "metadata": {},
   "outputs": [],
   "source": [
    "del top10_ODI_bowlers1[9:]"
   ]
  },
  {
   "cell_type": "code",
   "execution_count": 86,
   "id": "b237711b",
   "metadata": {},
   "outputs": [
    {
     "data": {
      "text/plain": [
       "['Mohammed Siraj',\n",
       " 'Mitchell Starc',\n",
       " 'Matt Henry',\n",
       " 'Trent Boult',\n",
       " 'Adam Zampa',\n",
       " 'Rashid Khan',\n",
       " 'Shaheen Afridi',\n",
       " 'Mujeeb Ur Rahman',\n",
       " 'Mohammad Nabi']"
      ]
     },
     "execution_count": 86,
     "metadata": {},
     "output_type": "execute_result"
    }
   ],
   "source": [
    "top10_ODI_bowlers1"
   ]
  },
  {
   "cell_type": "code",
   "execution_count": 87,
   "id": "cc156184",
   "metadata": {},
   "outputs": [],
   "source": [
    "top10_ODI_bowlers.extend(top10_ODI_bowlers1)"
   ]
  },
  {
   "cell_type": "code",
   "execution_count": 88,
   "id": "05d74ac3",
   "metadata": {},
   "outputs": [
    {
     "data": {
      "text/plain": [
       "['Josh Hazlewood',\n",
       " 'Mohammed Siraj',\n",
       " 'Mitchell Starc',\n",
       " 'Matt Henry',\n",
       " 'Trent Boult',\n",
       " 'Adam Zampa',\n",
       " 'Rashid Khan',\n",
       " 'Shaheen Afridi',\n",
       " 'Mujeeb Ur Rahman',\n",
       " 'Mohammad Nabi']"
      ]
     },
     "execution_count": 88,
     "metadata": {},
     "output_type": "execute_result"
    }
   ],
   "source": [
    "top10_ODI_bowlers"
   ]
  },
  {
   "cell_type": "code",
   "execution_count": 98,
   "id": "6e300204",
   "metadata": {},
   "outputs": [],
   "source": [
    "bteam=[]\n",
    "for i in soup4.find_all('div',class_=\"rankings-block__banner--nationality\"):\n",
    "    bteam.append(i.text.split('\\n')[2])"
   ]
  },
  {
   "cell_type": "code",
   "execution_count": 99,
   "id": "12d2fd74",
   "metadata": {},
   "outputs": [
    {
     "data": {
      "text/plain": [
       "['PAK', 'AUS', 'BAN', 'PAK', 'AUS', 'BAN']"
      ]
     },
     "execution_count": 99,
     "metadata": {},
     "output_type": "execute_result"
    }
   ],
   "source": [
    "bteam"
   ]
  },
  {
   "cell_type": "code",
   "execution_count": 100,
   "id": "caadabb4",
   "metadata": {},
   "outputs": [],
   "source": [
    "del bteam[0]"
   ]
  },
  {
   "cell_type": "code",
   "execution_count": 101,
   "id": "9f13a13c",
   "metadata": {},
   "outputs": [],
   "source": [
    "del bteam[1:]"
   ]
  },
  {
   "cell_type": "code",
   "execution_count": 102,
   "id": "9bb30542",
   "metadata": {},
   "outputs": [
    {
     "data": {
      "text/plain": [
       "['AUS']"
      ]
     },
     "execution_count": 102,
     "metadata": {},
     "output_type": "execute_result"
    }
   ],
   "source": [
    "bteam"
   ]
  },
  {
   "cell_type": "code",
   "execution_count": 103,
   "id": "11636a38",
   "metadata": {},
   "outputs": [],
   "source": [
    "bteam1=[]\n",
    "for i in soup4.find_all('span',class_=\"table-body__logo-text\"):\n",
    "    bteam1.append(i.text)"
   ]
  },
  {
   "cell_type": "code",
   "execution_count": 104,
   "id": "5601cd01",
   "metadata": {},
   "outputs": [
    {
     "data": {
      "text/plain": [
       "['SA',\n",
       " 'PAK',\n",
       " 'PAK',\n",
       " 'IND',\n",
       " 'IRE',\n",
       " 'AUS',\n",
       " 'IND',\n",
       " 'SA',\n",
       " 'IND',\n",
       " 'IND',\n",
       " 'AUS',\n",
       " 'NZ',\n",
       " 'NZ',\n",
       " 'AUS',\n",
       " 'AFG',\n",
       " 'PAK',\n",
       " 'AFG',\n",
       " 'AFG',\n",
       " 'AFG',\n",
       " 'ZIM',\n",
       " 'AFG',\n",
       " 'PNG',\n",
       " 'BAN',\n",
       " 'OMA',\n",
       " 'NZ',\n",
       " 'SL',\n",
       " 'ENG',\n",
       " 'SA',\n",
       " 'PAK',\n",
       " 'PAK',\n",
       " 'IND',\n",
       " 'IRE',\n",
       " 'AUS',\n",
       " 'IND',\n",
       " 'SA',\n",
       " 'IND',\n",
       " 'IND',\n",
       " 'AUS',\n",
       " 'NZ',\n",
       " 'NZ',\n",
       " 'AUS',\n",
       " 'AFG',\n",
       " 'PAK',\n",
       " 'AFG',\n",
       " 'AFG',\n",
       " 'AFG',\n",
       " 'ZIM',\n",
       " 'AFG',\n",
       " 'PNG',\n",
       " 'BAN',\n",
       " 'OMA',\n",
       " 'NZ',\n",
       " 'SL',\n",
       " 'ENG']"
      ]
     },
     "execution_count": 104,
     "metadata": {},
     "output_type": "execute_result"
    }
   ],
   "source": [
    "bteam1"
   ]
  },
  {
   "cell_type": "code",
   "execution_count": 105,
   "id": "9b746217",
   "metadata": {},
   "outputs": [],
   "source": [
    "del bteam1[0:9]"
   ]
  },
  {
   "cell_type": "code",
   "execution_count": 108,
   "id": "63c7aa81",
   "metadata": {},
   "outputs": [],
   "source": [
    "del bteam1[9:]"
   ]
  },
  {
   "cell_type": "code",
   "execution_count": 109,
   "id": "d8bcbb8d",
   "metadata": {},
   "outputs": [
    {
     "data": {
      "text/plain": [
       "['IND', 'AUS', 'NZ', 'NZ', 'AUS', 'AFG', 'PAK', 'AFG', 'AFG']"
      ]
     },
     "execution_count": 109,
     "metadata": {},
     "output_type": "execute_result"
    }
   ],
   "source": [
    "bteam1"
   ]
  },
  {
   "cell_type": "code",
   "execution_count": 110,
   "id": "a2660c65",
   "metadata": {},
   "outputs": [],
   "source": [
    "bteam.extend(bteam1)"
   ]
  },
  {
   "cell_type": "code",
   "execution_count": 111,
   "id": "c0b4ac6c",
   "metadata": {},
   "outputs": [
    {
     "data": {
      "text/plain": [
       "['AUS', 'IND', 'AUS', 'NZ', 'NZ', 'AUS', 'AFG', 'PAK', 'AFG', 'AFG']"
      ]
     },
     "execution_count": 111,
     "metadata": {},
     "output_type": "execute_result"
    }
   ],
   "source": [
    "bteam"
   ]
  },
  {
   "cell_type": "code",
   "execution_count": 123,
   "id": "20f8b388",
   "metadata": {},
   "outputs": [],
   "source": [
    "rating=[]\n",
    "for i in soup4.find_all('div',class_=\"rankings-block__banner--rating\"):\n",
    "    rating.append(i.text)"
   ]
  },
  {
   "cell_type": "code",
   "execution_count": 124,
   "id": "acd27da2",
   "metadata": {},
   "outputs": [
    {
     "data": {
      "text/plain": [
       "['886', '705', '367', '886', '705', '367']"
      ]
     },
     "execution_count": 124,
     "metadata": {},
     "output_type": "execute_result"
    }
   ],
   "source": [
    "rating"
   ]
  },
  {
   "cell_type": "code",
   "execution_count": 125,
   "id": "2d2e838f",
   "metadata": {},
   "outputs": [],
   "source": [
    "del rating[0]"
   ]
  },
  {
   "cell_type": "code",
   "execution_count": 126,
   "id": "b8cdf41e",
   "metadata": {},
   "outputs": [],
   "source": [
    "del rating[1:]"
   ]
  },
  {
   "cell_type": "code",
   "execution_count": 127,
   "id": "9b31d0b4",
   "metadata": {},
   "outputs": [
    {
     "data": {
      "text/plain": [
       "['705']"
      ]
     },
     "execution_count": 127,
     "metadata": {},
     "output_type": "execute_result"
    }
   ],
   "source": [
    "rating"
   ]
  },
  {
   "cell_type": "code",
   "execution_count": 131,
   "id": "209507bd",
   "metadata": {},
   "outputs": [],
   "source": [
    "rating1=[]\n",
    "for i in soup4.find_all('td',class_=\"table-body__cell u-text-right rating\"):\n",
    "    rating1.append(i.text)\n"
   ]
  },
  {
   "cell_type": "code",
   "execution_count": 132,
   "id": "18856e4e",
   "metadata": {},
   "outputs": [
    {
     "data": {
      "text/plain": [
       "['777',\n",
       " '755',\n",
       " '745',\n",
       " '738',\n",
       " '726',\n",
       " '726',\n",
       " '719',\n",
       " '718',\n",
       " '707',\n",
       " '691',\n",
       " '686',\n",
       " '667',\n",
       " '660',\n",
       " '652',\n",
       " '640',\n",
       " '630',\n",
       " '630',\n",
       " '626',\n",
       " '305',\n",
       " '287',\n",
       " '261',\n",
       " '248',\n",
       " '244',\n",
       " '240',\n",
       " '234',\n",
       " '233',\n",
       " '215',\n",
       " '777',\n",
       " '755',\n",
       " '745',\n",
       " '738',\n",
       " '726',\n",
       " '726',\n",
       " '719',\n",
       " '718',\n",
       " '707',\n",
       " '691',\n",
       " '686',\n",
       " '667',\n",
       " '660',\n",
       " '652',\n",
       " '640',\n",
       " '630',\n",
       " '630',\n",
       " '626',\n",
       " '305',\n",
       " '287',\n",
       " '261',\n",
       " '248',\n",
       " '244',\n",
       " '240',\n",
       " '234',\n",
       " '233',\n",
       " '215']"
      ]
     },
     "execution_count": 132,
     "metadata": {},
     "output_type": "execute_result"
    }
   ],
   "source": [
    "rating1"
   ]
  },
  {
   "cell_type": "code",
   "execution_count": 133,
   "id": "ee840c6a",
   "metadata": {},
   "outputs": [],
   "source": [
    "del rating1[0:9]"
   ]
  },
  {
   "cell_type": "code",
   "execution_count": 134,
   "id": "bdab5f8d",
   "metadata": {},
   "outputs": [],
   "source": [
    "del rating1[9:]"
   ]
  },
  {
   "cell_type": "code",
   "execution_count": 135,
   "id": "df1722a6",
   "metadata": {},
   "outputs": [
    {
     "data": {
      "text/plain": [
       "['691', '686', '667', '660', '652', '640', '630', '630', '626']"
      ]
     },
     "execution_count": 135,
     "metadata": {},
     "output_type": "execute_result"
    }
   ],
   "source": [
    "rating1"
   ]
  },
  {
   "cell_type": "code",
   "execution_count": 136,
   "id": "6a55bf11",
   "metadata": {},
   "outputs": [],
   "source": [
    "rating.extend(rating1)"
   ]
  },
  {
   "cell_type": "code",
   "execution_count": 137,
   "id": "c1b80ca0",
   "metadata": {},
   "outputs": [
    {
     "data": {
      "text/plain": [
       "['705', '691', '686', '667', '660', '652', '640', '630', '630', '626']"
      ]
     },
     "execution_count": 137,
     "metadata": {},
     "output_type": "execute_result"
    }
   ],
   "source": [
    "rating"
   ]
  },
  {
   "cell_type": "code",
   "execution_count": 138,
   "id": "df5535ba",
   "metadata": {},
   "outputs": [],
   "source": [
    "df6=pd.DataFrame({'top10_ODI_bowlers':top10_ODI_bowlers,'bteam':bteam,'rating':rating})"
   ]
  },
  {
   "cell_type": "code",
   "execution_count": 139,
   "id": "f758fa2a",
   "metadata": {},
   "outputs": [
    {
     "data": {
      "text/html": [
       "<div>\n",
       "<style scoped>\n",
       "    .dataframe tbody tr th:only-of-type {\n",
       "        vertical-align: middle;\n",
       "    }\n",
       "\n",
       "    .dataframe tbody tr th {\n",
       "        vertical-align: top;\n",
       "    }\n",
       "\n",
       "    .dataframe thead th {\n",
       "        text-align: right;\n",
       "    }\n",
       "</style>\n",
       "<table border=\"1\" class=\"dataframe\">\n",
       "  <thead>\n",
       "    <tr style=\"text-align: right;\">\n",
       "      <th></th>\n",
       "      <th>top10_ODI_bowlers</th>\n",
       "      <th>bteam</th>\n",
       "      <th>rating</th>\n",
       "    </tr>\n",
       "  </thead>\n",
       "  <tbody>\n",
       "    <tr>\n",
       "      <th>0</th>\n",
       "      <td>Josh Hazlewood</td>\n",
       "      <td>AUS</td>\n",
       "      <td>705</td>\n",
       "    </tr>\n",
       "    <tr>\n",
       "      <th>1</th>\n",
       "      <td>Mohammed Siraj</td>\n",
       "      <td>IND</td>\n",
       "      <td>691</td>\n",
       "    </tr>\n",
       "    <tr>\n",
       "      <th>2</th>\n",
       "      <td>Mitchell Starc</td>\n",
       "      <td>AUS</td>\n",
       "      <td>686</td>\n",
       "    </tr>\n",
       "    <tr>\n",
       "      <th>3</th>\n",
       "      <td>Matt Henry</td>\n",
       "      <td>NZ</td>\n",
       "      <td>667</td>\n",
       "    </tr>\n",
       "    <tr>\n",
       "      <th>4</th>\n",
       "      <td>Trent Boult</td>\n",
       "      <td>NZ</td>\n",
       "      <td>660</td>\n",
       "    </tr>\n",
       "    <tr>\n",
       "      <th>5</th>\n",
       "      <td>Adam Zampa</td>\n",
       "      <td>AUS</td>\n",
       "      <td>652</td>\n",
       "    </tr>\n",
       "    <tr>\n",
       "      <th>6</th>\n",
       "      <td>Rashid Khan</td>\n",
       "      <td>AFG</td>\n",
       "      <td>640</td>\n",
       "    </tr>\n",
       "    <tr>\n",
       "      <th>7</th>\n",
       "      <td>Shaheen Afridi</td>\n",
       "      <td>PAK</td>\n",
       "      <td>630</td>\n",
       "    </tr>\n",
       "    <tr>\n",
       "      <th>8</th>\n",
       "      <td>Mujeeb Ur Rahman</td>\n",
       "      <td>AFG</td>\n",
       "      <td>630</td>\n",
       "    </tr>\n",
       "    <tr>\n",
       "      <th>9</th>\n",
       "      <td>Mohammad Nabi</td>\n",
       "      <td>AFG</td>\n",
       "      <td>626</td>\n",
       "    </tr>\n",
       "  </tbody>\n",
       "</table>\n",
       "</div>"
      ],
      "text/plain": [
       "  top10_ODI_bowlers bteam rating\n",
       "0    Josh Hazlewood   AUS    705\n",
       "1    Mohammed Siraj   IND    691\n",
       "2    Mitchell Starc   AUS    686\n",
       "3        Matt Henry    NZ    667\n",
       "4       Trent Boult    NZ    660\n",
       "5        Adam Zampa   AUS    652\n",
       "6       Rashid Khan   AFG    640\n",
       "7    Shaheen Afridi   PAK    630\n",
       "8  Mujeeb Ur Rahman   AFG    630\n",
       "9     Mohammad Nabi   AFG    626"
      ]
     },
     "execution_count": 139,
     "metadata": {},
     "output_type": "execute_result"
    }
   ],
   "source": [
    "df6"
   ]
  },
  {
   "cell_type": "markdown",
   "id": "b61e7701",
   "metadata": {},
   "source": [
    "question no 4(a)"
   ]
  },
  {
   "cell_type": "code",
   "execution_count": 140,
   "id": "65992434",
   "metadata": {},
   "outputs": [
    {
     "data": {
      "text/plain": [
       "<Response [200]>"
      ]
     },
     "execution_count": 140,
     "metadata": {},
     "output_type": "execute_result"
    }
   ],
   "source": [
    "page5=requests.get('https://www.icc-cricket.com/rankings/womens/team-rankings/odi')\n",
    "page5"
   ]
  },
  {
   "cell_type": "code",
   "execution_count": 141,
   "id": "59a15d6f",
   "metadata": {},
   "outputs": [],
   "source": [
    "soup=BeautifulSoup(page5.content)"
   ]
  },
  {
   "cell_type": "code",
   "execution_count": 142,
   "id": "8edff4d0",
   "metadata": {},
   "outputs": [],
   "source": [
    "top_10_odi_wteams=[]\n",
    "for i in soup.find_all('span',class_=\"u-hide-phablet\"):\n",
    "    top_10_odi_wteams.append(i.text)"
   ]
  },
  {
   "cell_type": "code",
   "execution_count": 143,
   "id": "b48e1bb3",
   "metadata": {},
   "outputs": [
    {
     "data": {
      "text/plain": [
       "['Australia',\n",
       " 'England',\n",
       " 'South Africa',\n",
       " 'India',\n",
       " 'New Zealand',\n",
       " 'West Indies',\n",
       " 'Bangladesh',\n",
       " 'Sri Lanka',\n",
       " 'Thailand',\n",
       " 'Pakistan',\n",
       " 'Ireland',\n",
       " 'Netherlands',\n",
       " 'Zimbabwe']"
      ]
     },
     "execution_count": 143,
     "metadata": {},
     "output_type": "execute_result"
    }
   ],
   "source": [
    "top_10_odi_wteams"
   ]
  },
  {
   "cell_type": "code",
   "execution_count": 144,
   "id": "7ba75860",
   "metadata": {},
   "outputs": [],
   "source": [
    "matches=[]\n",
    "for i in soup.find_all('td',class_=\"rankings-block__banner--matches\"):\n",
    "    matches.append(i.text)"
   ]
  },
  {
   "cell_type": "code",
   "execution_count": 145,
   "id": "a314abae",
   "metadata": {},
   "outputs": [
    {
     "data": {
      "text/plain": [
       "['21']"
      ]
     },
     "execution_count": 145,
     "metadata": {},
     "output_type": "execute_result"
    }
   ],
   "source": [
    "matches"
   ]
  },
  {
   "cell_type": "code",
   "execution_count": 154,
   "id": "a8ef79dd",
   "metadata": {},
   "outputs": [],
   "source": [
    "matches1=[]\n",
    "for i in soup.find_all('tr',class_=\"table-body\"):\n",
    "    matches1.append(i.text.split('\\n')[7])"
   ]
  },
  {
   "cell_type": "code",
   "execution_count": 155,
   "id": "eeb9d38d",
   "metadata": {},
   "outputs": [
    {
     "data": {
      "text/plain": [
       "['28', '26', '27', '28', '29', '14', '12', '12', '27', '16', '10', '11']"
      ]
     },
     "execution_count": 155,
     "metadata": {},
     "output_type": "execute_result"
    }
   ],
   "source": [
    "matches1"
   ]
  },
  {
   "cell_type": "code",
   "execution_count": 156,
   "id": "d75ead03",
   "metadata": {},
   "outputs": [],
   "source": [
    "matches.extend(matches1)"
   ]
  },
  {
   "cell_type": "code",
   "execution_count": 157,
   "id": "145ea439",
   "metadata": {},
   "outputs": [
    {
     "data": {
      "text/plain": [
       "['21', '28', '26', '27', '28', '29', '14', '12', '12', '27', '16', '10', '11']"
      ]
     },
     "execution_count": 157,
     "metadata": {},
     "output_type": "execute_result"
    }
   ],
   "source": [
    "matches"
   ]
  },
  {
   "cell_type": "code",
   "execution_count": 158,
   "id": "a624d9e6",
   "metadata": {},
   "outputs": [],
   "source": [
    "points=[]\n",
    "for i in soup.find_all('td',class_=\"rankings-block__banner--points\"):\n",
    "    points.append(i.text)"
   ]
  },
  {
   "cell_type": "code",
   "execution_count": 159,
   "id": "15ba0a8b",
   "metadata": {},
   "outputs": [
    {
     "data": {
      "text/plain": [
       "['3,603']"
      ]
     },
     "execution_count": 159,
     "metadata": {},
     "output_type": "execute_result"
    }
   ],
   "source": [
    "points"
   ]
  },
  {
   "cell_type": "code",
   "execution_count": 160,
   "id": "9c4ddbe3",
   "metadata": {},
   "outputs": [],
   "source": [
    "points1=[]\n",
    "for i in soup.find_all('tr',class_=\"table-body\"):\n",
    "    points1.append(i.text.split('\\n')[8])"
   ]
  },
  {
   "cell_type": "code",
   "execution_count": 161,
   "id": "1e8980e9",
   "metadata": {},
   "outputs": [
    {
     "data": {
      "text/plain": [
       "['3,342',\n",
       " '3,098',\n",
       " '2,820',\n",
       " '2,688',\n",
       " '2,743',\n",
       " '977',\n",
       " '820',\n",
       " '806',\n",
       " '1,678',\n",
       " '605',\n",
       " '90',\n",
       " '0']"
      ]
     },
     "execution_count": 161,
     "metadata": {},
     "output_type": "execute_result"
    }
   ],
   "source": [
    "points1"
   ]
  },
  {
   "cell_type": "code",
   "execution_count": 162,
   "id": "5be7559d",
   "metadata": {},
   "outputs": [],
   "source": [
    "points.extend(points1)"
   ]
  },
  {
   "cell_type": "code",
   "execution_count": 163,
   "id": "f10841bd",
   "metadata": {},
   "outputs": [
    {
     "data": {
      "text/plain": [
       "['3,603',\n",
       " '3,342',\n",
       " '3,098',\n",
       " '2,820',\n",
       " '2,688',\n",
       " '2,743',\n",
       " '977',\n",
       " '820',\n",
       " '806',\n",
       " '1,678',\n",
       " '605',\n",
       " '90',\n",
       " '0']"
      ]
     },
     "execution_count": 163,
     "metadata": {},
     "output_type": "execute_result"
    }
   ],
   "source": [
    "points"
   ]
  },
  {
   "cell_type": "code",
   "execution_count": 167,
   "id": "64b6e997",
   "metadata": {},
   "outputs": [],
   "source": [
    "rating=[]\n",
    "for i in soup.find_all('td',class_=\"rankings-block__banner--rating u-text-right\"):\n",
    "    rating.append(i.text.split('\\n')[1])"
   ]
  },
  {
   "cell_type": "code",
   "execution_count": 168,
   "id": "89928b45",
   "metadata": {},
   "outputs": [
    {
     "data": {
      "text/plain": [
       "['                            172']"
      ]
     },
     "execution_count": 168,
     "metadata": {},
     "output_type": "execute_result"
    }
   ],
   "source": [
    "rating"
   ]
  },
  {
   "cell_type": "code",
   "execution_count": 187,
   "id": "96b7ba65",
   "metadata": {},
   "outputs": [],
   "source": [
    "rating1=[]\n",
    "for i in soup.find_all('tr',class_=\"table-body\"):\n",
    "    rating1.append(i.text.split('\\n')[9])"
   ]
  },
  {
   "cell_type": "code",
   "execution_count": 188,
   "id": "d4ecaf43",
   "metadata": {},
   "outputs": [
    {
     "data": {
      "text/plain": [
       "['119', '119', '104', '96', '95', '70', '68', '67', '62', '38', '9', '0']"
      ]
     },
     "execution_count": 188,
     "metadata": {},
     "output_type": "execute_result"
    }
   ],
   "source": [
    "rating1"
   ]
  },
  {
   "cell_type": "code",
   "execution_count": 189,
   "id": "66d2f0a5",
   "metadata": {},
   "outputs": [],
   "source": [
    "rating.extend(rating1)"
   ]
  },
  {
   "cell_type": "code",
   "execution_count": 190,
   "id": "553b209e",
   "metadata": {},
   "outputs": [
    {
     "data": {
      "text/plain": [
       "['                            172',\n",
       " '119',\n",
       " '119',\n",
       " '104',\n",
       " '96',\n",
       " '95',\n",
       " '70',\n",
       " '68',\n",
       " '67',\n",
       " '62',\n",
       " '38',\n",
       " '9',\n",
       " '0']"
      ]
     },
     "execution_count": 190,
     "metadata": {},
     "output_type": "execute_result"
    }
   ],
   "source": [
    "rating"
   ]
  },
  {
   "cell_type": "code",
   "execution_count": 191,
   "id": "44c3e5d1",
   "metadata": {},
   "outputs": [],
   "source": [
    "df6=pd.DataFrame({'top_10_odi_wteams':top_10_odi_wteams,'matches':matches,'points':points,'rating':rating})"
   ]
  },
  {
   "cell_type": "code",
   "execution_count": 192,
   "id": "6d94d7eb",
   "metadata": {},
   "outputs": [
    {
     "data": {
      "text/html": [
       "<div>\n",
       "<style scoped>\n",
       "    .dataframe tbody tr th:only-of-type {\n",
       "        vertical-align: middle;\n",
       "    }\n",
       "\n",
       "    .dataframe tbody tr th {\n",
       "        vertical-align: top;\n",
       "    }\n",
       "\n",
       "    .dataframe thead th {\n",
       "        text-align: right;\n",
       "    }\n",
       "</style>\n",
       "<table border=\"1\" class=\"dataframe\">\n",
       "  <thead>\n",
       "    <tr style=\"text-align: right;\">\n",
       "      <th></th>\n",
       "      <th>top_10_odi_wteams</th>\n",
       "      <th>matches</th>\n",
       "      <th>points</th>\n",
       "      <th>rating</th>\n",
       "    </tr>\n",
       "  </thead>\n",
       "  <tbody>\n",
       "    <tr>\n",
       "      <th>0</th>\n",
       "      <td>Australia</td>\n",
       "      <td>21</td>\n",
       "      <td>3,603</td>\n",
       "      <td>172</td>\n",
       "    </tr>\n",
       "    <tr>\n",
       "      <th>1</th>\n",
       "      <td>England</td>\n",
       "      <td>28</td>\n",
       "      <td>3,342</td>\n",
       "      <td>119</td>\n",
       "    </tr>\n",
       "    <tr>\n",
       "      <th>2</th>\n",
       "      <td>South Africa</td>\n",
       "      <td>26</td>\n",
       "      <td>3,098</td>\n",
       "      <td>119</td>\n",
       "    </tr>\n",
       "    <tr>\n",
       "      <th>3</th>\n",
       "      <td>India</td>\n",
       "      <td>27</td>\n",
       "      <td>2,820</td>\n",
       "      <td>104</td>\n",
       "    </tr>\n",
       "    <tr>\n",
       "      <th>4</th>\n",
       "      <td>New Zealand</td>\n",
       "      <td>28</td>\n",
       "      <td>2,688</td>\n",
       "      <td>96</td>\n",
       "    </tr>\n",
       "    <tr>\n",
       "      <th>5</th>\n",
       "      <td>West Indies</td>\n",
       "      <td>29</td>\n",
       "      <td>2,743</td>\n",
       "      <td>95</td>\n",
       "    </tr>\n",
       "    <tr>\n",
       "      <th>6</th>\n",
       "      <td>Bangladesh</td>\n",
       "      <td>14</td>\n",
       "      <td>977</td>\n",
       "      <td>70</td>\n",
       "    </tr>\n",
       "    <tr>\n",
       "      <th>7</th>\n",
       "      <td>Sri Lanka</td>\n",
       "      <td>12</td>\n",
       "      <td>820</td>\n",
       "      <td>68</td>\n",
       "    </tr>\n",
       "    <tr>\n",
       "      <th>8</th>\n",
       "      <td>Thailand</td>\n",
       "      <td>12</td>\n",
       "      <td>806</td>\n",
       "      <td>67</td>\n",
       "    </tr>\n",
       "    <tr>\n",
       "      <th>9</th>\n",
       "      <td>Pakistan</td>\n",
       "      <td>27</td>\n",
       "      <td>1,678</td>\n",
       "      <td>62</td>\n",
       "    </tr>\n",
       "    <tr>\n",
       "      <th>10</th>\n",
       "      <td>Ireland</td>\n",
       "      <td>16</td>\n",
       "      <td>605</td>\n",
       "      <td>38</td>\n",
       "    </tr>\n",
       "    <tr>\n",
       "      <th>11</th>\n",
       "      <td>Netherlands</td>\n",
       "      <td>10</td>\n",
       "      <td>90</td>\n",
       "      <td>9</td>\n",
       "    </tr>\n",
       "    <tr>\n",
       "      <th>12</th>\n",
       "      <td>Zimbabwe</td>\n",
       "      <td>11</td>\n",
       "      <td>0</td>\n",
       "      <td>0</td>\n",
       "    </tr>\n",
       "  </tbody>\n",
       "</table>\n",
       "</div>"
      ],
      "text/plain": [
       "   top_10_odi_wteams matches points                           rating\n",
       "0          Australia      21  3,603                              172\n",
       "1            England      28  3,342                              119\n",
       "2       South Africa      26  3,098                              119\n",
       "3              India      27  2,820                              104\n",
       "4        New Zealand      28  2,688                               96\n",
       "5        West Indies      29  2,743                               95\n",
       "6         Bangladesh      14    977                               70\n",
       "7          Sri Lanka      12    820                               68\n",
       "8           Thailand      12    806                               67\n",
       "9           Pakistan      27  1,678                               62\n",
       "10           Ireland      16    605                               38\n",
       "11       Netherlands      10     90                                9\n",
       "12          Zimbabwe      11      0                                0"
      ]
     },
     "execution_count": 192,
     "metadata": {},
     "output_type": "execute_result"
    }
   ],
   "source": [
    "df6"
   ]
  },
  {
   "cell_type": "code",
   "execution_count": 193,
   "id": "853a49cb",
   "metadata": {},
   "outputs": [
    {
     "data": {
      "text/html": [
       "<div>\n",
       "<style scoped>\n",
       "    .dataframe tbody tr th:only-of-type {\n",
       "        vertical-align: middle;\n",
       "    }\n",
       "\n",
       "    .dataframe tbody tr th {\n",
       "        vertical-align: top;\n",
       "    }\n",
       "\n",
       "    .dataframe thead th {\n",
       "        text-align: right;\n",
       "    }\n",
       "</style>\n",
       "<table border=\"1\" class=\"dataframe\">\n",
       "  <thead>\n",
       "    <tr style=\"text-align: right;\">\n",
       "      <th></th>\n",
       "      <th>top_10_odi_wteams</th>\n",
       "      <th>matches</th>\n",
       "      <th>points</th>\n",
       "      <th>rating</th>\n",
       "    </tr>\n",
       "  </thead>\n",
       "  <tbody>\n",
       "    <tr>\n",
       "      <th>0</th>\n",
       "      <td>Australia</td>\n",
       "      <td>21</td>\n",
       "      <td>3,603</td>\n",
       "      <td>172</td>\n",
       "    </tr>\n",
       "    <tr>\n",
       "      <th>1</th>\n",
       "      <td>England</td>\n",
       "      <td>28</td>\n",
       "      <td>3,342</td>\n",
       "      <td>119</td>\n",
       "    </tr>\n",
       "    <tr>\n",
       "      <th>2</th>\n",
       "      <td>South Africa</td>\n",
       "      <td>26</td>\n",
       "      <td>3,098</td>\n",
       "      <td>119</td>\n",
       "    </tr>\n",
       "    <tr>\n",
       "      <th>3</th>\n",
       "      <td>India</td>\n",
       "      <td>27</td>\n",
       "      <td>2,820</td>\n",
       "      <td>104</td>\n",
       "    </tr>\n",
       "    <tr>\n",
       "      <th>4</th>\n",
       "      <td>New Zealand</td>\n",
       "      <td>28</td>\n",
       "      <td>2,688</td>\n",
       "      <td>96</td>\n",
       "    </tr>\n",
       "    <tr>\n",
       "      <th>5</th>\n",
       "      <td>West Indies</td>\n",
       "      <td>29</td>\n",
       "      <td>2,743</td>\n",
       "      <td>95</td>\n",
       "    </tr>\n",
       "    <tr>\n",
       "      <th>6</th>\n",
       "      <td>Bangladesh</td>\n",
       "      <td>14</td>\n",
       "      <td>977</td>\n",
       "      <td>70</td>\n",
       "    </tr>\n",
       "    <tr>\n",
       "      <th>7</th>\n",
       "      <td>Sri Lanka</td>\n",
       "      <td>12</td>\n",
       "      <td>820</td>\n",
       "      <td>68</td>\n",
       "    </tr>\n",
       "    <tr>\n",
       "      <th>8</th>\n",
       "      <td>Thailand</td>\n",
       "      <td>12</td>\n",
       "      <td>806</td>\n",
       "      <td>67</td>\n",
       "    </tr>\n",
       "    <tr>\n",
       "      <th>9</th>\n",
       "      <td>Pakistan</td>\n",
       "      <td>27</td>\n",
       "      <td>1,678</td>\n",
       "      <td>62</td>\n",
       "    </tr>\n",
       "  </tbody>\n",
       "</table>\n",
       "</div>"
      ],
      "text/plain": [
       "  top_10_odi_wteams matches points                           rating\n",
       "0         Australia      21  3,603                              172\n",
       "1           England      28  3,342                              119\n",
       "2      South Africa      26  3,098                              119\n",
       "3             India      27  2,820                              104\n",
       "4       New Zealand      28  2,688                               96\n",
       "5       West Indies      29  2,743                               95\n",
       "6        Bangladesh      14    977                               70\n",
       "7         Sri Lanka      12    820                               68\n",
       "8          Thailand      12    806                               67\n",
       "9          Pakistan      27  1,678                               62"
      ]
     },
     "execution_count": 193,
     "metadata": {},
     "output_type": "execute_result"
    }
   ],
   "source": [
    "df6.iloc[0:10]"
   ]
  },
  {
   "cell_type": "markdown",
   "id": "65e1c3fd",
   "metadata": {},
   "source": [
    "question no 4(b)"
   ]
  },
  {
   "cell_type": "code",
   "execution_count": 198,
   "id": "269ae68b",
   "metadata": {},
   "outputs": [],
   "source": [
    "page6=requests.get('https://www.icc-cricket.com/rankings/womens/player-rankings/odi')"
   ]
  },
  {
   "cell_type": "code",
   "execution_count": 199,
   "id": "eff78b7e",
   "metadata": {},
   "outputs": [
    {
     "data": {
      "text/plain": [
       "<Response [200]>"
      ]
     },
     "execution_count": 199,
     "metadata": {},
     "output_type": "execute_result"
    }
   ],
   "source": [
    "page6"
   ]
  },
  {
   "cell_type": "code",
   "execution_count": 200,
   "id": "086fbd6b",
   "metadata": {},
   "outputs": [],
   "source": [
    "soup6=BeautifulSoup(page6.content)"
   ]
  },
  {
   "cell_type": "code",
   "execution_count": 201,
   "id": "ff2aabb9",
   "metadata": {},
   "outputs": [],
   "source": [
    "top10_women_ODI_batting=[]\n",
    "for i in soup6.find_all('div',class_=\"rankings-block__banner--name\"):\n",
    "    top10_women_ODI_batting.append(i.text)"
   ]
  },
  {
   "cell_type": "code",
   "execution_count": 202,
   "id": "0f0d5ce5",
   "metadata": {},
   "outputs": [
    {
     "data": {
      "text/plain": [
       "['Chamari Athapaththu', 'Sophie Ecclestone', 'Hayley Matthews']"
      ]
     },
     "execution_count": 202,
     "metadata": {},
     "output_type": "execute_result"
    }
   ],
   "source": [
    "top10_women_ODI_batting"
   ]
  },
  {
   "cell_type": "code",
   "execution_count": 203,
   "id": "f7862388",
   "metadata": {},
   "outputs": [],
   "source": [
    "del top10_women_ODI_batting[1:]"
   ]
  },
  {
   "cell_type": "code",
   "execution_count": 204,
   "id": "6f58548f",
   "metadata": {},
   "outputs": [
    {
     "data": {
      "text/plain": [
       "['Chamari Athapaththu']"
      ]
     },
     "execution_count": 204,
     "metadata": {},
     "output_type": "execute_result"
    }
   ],
   "source": [
    "top10_women_ODI_batting"
   ]
  },
  {
   "cell_type": "code",
   "execution_count": 207,
   "id": "dd453414",
   "metadata": {},
   "outputs": [],
   "source": [
    "w1=[]\n",
    "for i in soup6.find_all('td',class_=\"table-body__cell name\"):\n",
    "    w1.append(i.text.split('\\n')[1])"
   ]
  },
  {
   "cell_type": "code",
   "execution_count": 208,
   "id": "25399b0f",
   "metadata": {},
   "outputs": [
    {
     "data": {
      "text/plain": [
       "['Beth Mooney',\n",
       " 'Laura Wolvaardt',\n",
       " 'Natalie Sciver',\n",
       " 'Meg Lanning',\n",
       " 'Harmanpreet Kaur',\n",
       " 'Smriti Mandhana',\n",
       " 'Ellyse Perry',\n",
       " 'Stafanie Taylor',\n",
       " 'Tammy Beaumont',\n",
       " 'Jess Jonassen',\n",
       " 'Shabnim Ismail',\n",
       " 'Megan Schutt',\n",
       " 'Hayley Matthews',\n",
       " 'Kate Cross',\n",
       " 'Ayabonga Khaka',\n",
       " 'Rajeshwari Gayakwad',\n",
       " 'Marizanne Kapp',\n",
       " 'Deepti Sharma',\n",
       " 'Natalie Sciver',\n",
       " 'Ellyse Perry',\n",
       " 'Marizanne Kapp',\n",
       " 'Amelia Kerr',\n",
       " 'Deepti Sharma',\n",
       " 'Ashleigh Gardner',\n",
       " 'Jess Jonassen',\n",
       " 'Sophie Devine',\n",
       " 'Nida Dar']"
      ]
     },
     "execution_count": 208,
     "metadata": {},
     "output_type": "execute_result"
    }
   ],
   "source": [
    "w1"
   ]
  },
  {
   "cell_type": "code",
   "execution_count": 209,
   "id": "17076866",
   "metadata": {},
   "outputs": [],
   "source": [
    "del w1[9:]"
   ]
  },
  {
   "cell_type": "code",
   "execution_count": 210,
   "id": "4c10302f",
   "metadata": {},
   "outputs": [
    {
     "data": {
      "text/plain": [
       "['Beth Mooney',\n",
       " 'Laura Wolvaardt',\n",
       " 'Natalie Sciver',\n",
       " 'Meg Lanning',\n",
       " 'Harmanpreet Kaur',\n",
       " 'Smriti Mandhana',\n",
       " 'Ellyse Perry',\n",
       " 'Stafanie Taylor',\n",
       " 'Tammy Beaumont']"
      ]
     },
     "execution_count": 210,
     "metadata": {},
     "output_type": "execute_result"
    }
   ],
   "source": [
    "w1"
   ]
  },
  {
   "cell_type": "code",
   "execution_count": 211,
   "id": "2f7c4640",
   "metadata": {},
   "outputs": [],
   "source": [
    "top10_women_ODI_batting.extend(w1)"
   ]
  },
  {
   "cell_type": "code",
   "execution_count": 212,
   "id": "5d2635b0",
   "metadata": {},
   "outputs": [
    {
     "data": {
      "text/plain": [
       "['Chamari Athapaththu',\n",
       " 'Beth Mooney',\n",
       " 'Laura Wolvaardt',\n",
       " 'Natalie Sciver',\n",
       " 'Meg Lanning',\n",
       " 'Harmanpreet Kaur',\n",
       " 'Smriti Mandhana',\n",
       " 'Ellyse Perry',\n",
       " 'Stafanie Taylor',\n",
       " 'Tammy Beaumont']"
      ]
     },
     "execution_count": 212,
     "metadata": {},
     "output_type": "execute_result"
    }
   ],
   "source": [
    "top10_women_ODI_batting"
   ]
  },
  {
   "cell_type": "code",
   "execution_count": 215,
   "id": "53beacf3",
   "metadata": {},
   "outputs": [],
   "source": [
    "wteam=[]\n",
    "for i in soup6.find_all('div',class_=\"rankings-block__banner--nationality\"):\n",
    "    wteam.append(i.text.split('\\n')[2])"
   ]
  },
  {
   "cell_type": "code",
   "execution_count": 216,
   "id": "3ecfd896",
   "metadata": {},
   "outputs": [
    {
     "data": {
      "text/plain": [
       "['SL', 'ENG', 'WI']"
      ]
     },
     "execution_count": 216,
     "metadata": {},
     "output_type": "execute_result"
    }
   ],
   "source": [
    "wteam"
   ]
  },
  {
   "cell_type": "code",
   "execution_count": 217,
   "id": "2d3d619c",
   "metadata": {},
   "outputs": [],
   "source": [
    "del wteam[1:]"
   ]
  },
  {
   "cell_type": "code",
   "execution_count": 218,
   "id": "975f0d35",
   "metadata": {},
   "outputs": [
    {
     "data": {
      "text/plain": [
       "['SL']"
      ]
     },
     "execution_count": 218,
     "metadata": {},
     "output_type": "execute_result"
    }
   ],
   "source": [
    "wteam"
   ]
  },
  {
   "cell_type": "code",
   "execution_count": 219,
   "id": "141d57e2",
   "metadata": {},
   "outputs": [],
   "source": [
    "w2=[]\n",
    "for i in soup6.find_all('span',class_=\"table-body__logo-text\"):\n",
    "    w2.append(i.text)"
   ]
  },
  {
   "cell_type": "code",
   "execution_count": 220,
   "id": "47ac2012",
   "metadata": {},
   "outputs": [
    {
     "data": {
      "text/plain": [
       "['AUS',\n",
       " 'SA',\n",
       " 'ENG',\n",
       " 'AUS',\n",
       " 'IND',\n",
       " 'IND',\n",
       " 'AUS',\n",
       " 'WI',\n",
       " 'ENG',\n",
       " 'AUS',\n",
       " 'SA',\n",
       " 'AUS',\n",
       " 'WI',\n",
       " 'ENG',\n",
       " 'SA',\n",
       " 'IND',\n",
       " 'SA',\n",
       " 'IND',\n",
       " 'ENG',\n",
       " 'AUS',\n",
       " 'SA',\n",
       " 'NZ',\n",
       " 'IND',\n",
       " 'AUS',\n",
       " 'AUS',\n",
       " 'NZ',\n",
       " 'PAK']"
      ]
     },
     "execution_count": 220,
     "metadata": {},
     "output_type": "execute_result"
    }
   ],
   "source": [
    "w2"
   ]
  },
  {
   "cell_type": "code",
   "execution_count": 221,
   "id": "ba9d45a8",
   "metadata": {},
   "outputs": [],
   "source": [
    "del w2[9:]"
   ]
  },
  {
   "cell_type": "code",
   "execution_count": 222,
   "id": "5fb13463",
   "metadata": {},
   "outputs": [
    {
     "data": {
      "text/plain": [
       "['AUS', 'SA', 'ENG', 'AUS', 'IND', 'IND', 'AUS', 'WI', 'ENG']"
      ]
     },
     "execution_count": 222,
     "metadata": {},
     "output_type": "execute_result"
    }
   ],
   "source": [
    "w2"
   ]
  },
  {
   "cell_type": "code",
   "execution_count": 223,
   "id": "7fce0122",
   "metadata": {},
   "outputs": [],
   "source": [
    "wteam.extend(w2)"
   ]
  },
  {
   "cell_type": "code",
   "execution_count": 224,
   "id": "f7a97a57",
   "metadata": {},
   "outputs": [
    {
     "data": {
      "text/plain": [
       "['SL', 'AUS', 'SA', 'ENG', 'AUS', 'IND', 'IND', 'AUS', 'WI', 'ENG']"
      ]
     },
     "execution_count": 224,
     "metadata": {},
     "output_type": "execute_result"
    }
   ],
   "source": [
    "wteam"
   ]
  },
  {
   "cell_type": "code",
   "execution_count": 225,
   "id": "38ceea9b",
   "metadata": {},
   "outputs": [],
   "source": [
    "wrating=[]\n",
    "for i in soup6.find_all('div',class_=\"rankings-block__banner--rating\"):\n",
    "    wrating.append(i.text)"
   ]
  },
  {
   "cell_type": "code",
   "execution_count": 226,
   "id": "cad4dee0",
   "metadata": {},
   "outputs": [
    {
     "data": {
      "text/plain": [
       "['758', '751', '382']"
      ]
     },
     "execution_count": 226,
     "metadata": {},
     "output_type": "execute_result"
    }
   ],
   "source": [
    "wrating"
   ]
  },
  {
   "cell_type": "code",
   "execution_count": 227,
   "id": "28ce268a",
   "metadata": {},
   "outputs": [],
   "source": [
    "del wrating[1:]"
   ]
  },
  {
   "cell_type": "code",
   "execution_count": 228,
   "id": "d923bbb9",
   "metadata": {},
   "outputs": [
    {
     "data": {
      "text/plain": [
       "['758']"
      ]
     },
     "execution_count": 228,
     "metadata": {},
     "output_type": "execute_result"
    }
   ],
   "source": [
    "wrating"
   ]
  },
  {
   "cell_type": "code",
   "execution_count": 229,
   "id": "8ce703f6",
   "metadata": {},
   "outputs": [],
   "source": [
    "w3=[]\n",
    "for i in soup6.find_all('td',class_=\"table-body__cell u-text-right rating\"):\n",
    "    w3.append(i.text)"
   ]
  },
  {
   "cell_type": "code",
   "execution_count": 230,
   "id": "415628a8",
   "metadata": {},
   "outputs": [
    {
     "data": {
      "text/plain": [
       "['754',\n",
       " '732',\n",
       " '731',\n",
       " '717',\n",
       " '716',\n",
       " '714',\n",
       " '626',\n",
       " '618',\n",
       " '595',\n",
       " '723',\n",
       " '722',\n",
       " '704',\n",
       " '662',\n",
       " '655',\n",
       " '634',\n",
       " '617',\n",
       " '598',\n",
       " '589',\n",
       " '371',\n",
       " '366',\n",
       " '349',\n",
       " '328',\n",
       " '322',\n",
       " '292',\n",
       " '250',\n",
       " '233',\n",
       " '232']"
      ]
     },
     "execution_count": 230,
     "metadata": {},
     "output_type": "execute_result"
    }
   ],
   "source": [
    "w3"
   ]
  },
  {
   "cell_type": "code",
   "execution_count": 231,
   "id": "b63b24ac",
   "metadata": {},
   "outputs": [],
   "source": [
    "del w3[9:]"
   ]
  },
  {
   "cell_type": "code",
   "execution_count": 232,
   "id": "3a17a311",
   "metadata": {},
   "outputs": [
    {
     "data": {
      "text/plain": [
       "['754', '732', '731', '717', '716', '714', '626', '618', '595']"
      ]
     },
     "execution_count": 232,
     "metadata": {},
     "output_type": "execute_result"
    }
   ],
   "source": [
    "w3"
   ]
  },
  {
   "cell_type": "code",
   "execution_count": 233,
   "id": "0aafc0d6",
   "metadata": {},
   "outputs": [],
   "source": [
    "wrating.extend(w3)"
   ]
  },
  {
   "cell_type": "code",
   "execution_count": 234,
   "id": "79f36368",
   "metadata": {},
   "outputs": [
    {
     "data": {
      "text/plain": [
       "['758', '754', '732', '731', '717', '716', '714', '626', '618', '595']"
      ]
     },
     "execution_count": 234,
     "metadata": {},
     "output_type": "execute_result"
    }
   ],
   "source": [
    "wrating"
   ]
  },
  {
   "cell_type": "code",
   "execution_count": 235,
   "id": "bd245b01",
   "metadata": {},
   "outputs": [],
   "source": [
    "df7=pd.DataFrame({'top10_women_ODI_batting':top10_women_ODI_batting,'team':wteam,'rating':wrating})"
   ]
  },
  {
   "cell_type": "code",
   "execution_count": 236,
   "id": "5a720649",
   "metadata": {},
   "outputs": [
    {
     "data": {
      "text/html": [
       "<div>\n",
       "<style scoped>\n",
       "    .dataframe tbody tr th:only-of-type {\n",
       "        vertical-align: middle;\n",
       "    }\n",
       "\n",
       "    .dataframe tbody tr th {\n",
       "        vertical-align: top;\n",
       "    }\n",
       "\n",
       "    .dataframe thead th {\n",
       "        text-align: right;\n",
       "    }\n",
       "</style>\n",
       "<table border=\"1\" class=\"dataframe\">\n",
       "  <thead>\n",
       "    <tr style=\"text-align: right;\">\n",
       "      <th></th>\n",
       "      <th>top10_women_ODI_batting</th>\n",
       "      <th>team</th>\n",
       "      <th>rating</th>\n",
       "    </tr>\n",
       "  </thead>\n",
       "  <tbody>\n",
       "    <tr>\n",
       "      <th>0</th>\n",
       "      <td>Chamari Athapaththu</td>\n",
       "      <td>SL</td>\n",
       "      <td>758</td>\n",
       "    </tr>\n",
       "    <tr>\n",
       "      <th>1</th>\n",
       "      <td>Beth Mooney</td>\n",
       "      <td>AUS</td>\n",
       "      <td>754</td>\n",
       "    </tr>\n",
       "    <tr>\n",
       "      <th>2</th>\n",
       "      <td>Laura Wolvaardt</td>\n",
       "      <td>SA</td>\n",
       "      <td>732</td>\n",
       "    </tr>\n",
       "    <tr>\n",
       "      <th>3</th>\n",
       "      <td>Natalie Sciver</td>\n",
       "      <td>ENG</td>\n",
       "      <td>731</td>\n",
       "    </tr>\n",
       "    <tr>\n",
       "      <th>4</th>\n",
       "      <td>Meg Lanning</td>\n",
       "      <td>AUS</td>\n",
       "      <td>717</td>\n",
       "    </tr>\n",
       "    <tr>\n",
       "      <th>5</th>\n",
       "      <td>Harmanpreet Kaur</td>\n",
       "      <td>IND</td>\n",
       "      <td>716</td>\n",
       "    </tr>\n",
       "    <tr>\n",
       "      <th>6</th>\n",
       "      <td>Smriti Mandhana</td>\n",
       "      <td>IND</td>\n",
       "      <td>714</td>\n",
       "    </tr>\n",
       "    <tr>\n",
       "      <th>7</th>\n",
       "      <td>Ellyse Perry</td>\n",
       "      <td>AUS</td>\n",
       "      <td>626</td>\n",
       "    </tr>\n",
       "    <tr>\n",
       "      <th>8</th>\n",
       "      <td>Stafanie Taylor</td>\n",
       "      <td>WI</td>\n",
       "      <td>618</td>\n",
       "    </tr>\n",
       "    <tr>\n",
       "      <th>9</th>\n",
       "      <td>Tammy Beaumont</td>\n",
       "      <td>ENG</td>\n",
       "      <td>595</td>\n",
       "    </tr>\n",
       "  </tbody>\n",
       "</table>\n",
       "</div>"
      ],
      "text/plain": [
       "  top10_women_ODI_batting team rating\n",
       "0     Chamari Athapaththu   SL    758\n",
       "1             Beth Mooney  AUS    754\n",
       "2         Laura Wolvaardt   SA    732\n",
       "3          Natalie Sciver  ENG    731\n",
       "4             Meg Lanning  AUS    717\n",
       "5        Harmanpreet Kaur  IND    716\n",
       "6         Smriti Mandhana  IND    714\n",
       "7            Ellyse Perry  AUS    626\n",
       "8         Stafanie Taylor   WI    618\n",
       "9          Tammy Beaumont  ENG    595"
      ]
     },
     "execution_count": 236,
     "metadata": {},
     "output_type": "execute_result"
    }
   ],
   "source": [
    "df7"
   ]
  },
  {
   "cell_type": "markdown",
   "id": "e1951918",
   "metadata": {},
   "source": [
    "question no 4(c)"
   ]
  },
  {
   "cell_type": "code",
   "execution_count": 237,
   "id": "e1bd8dc5",
   "metadata": {},
   "outputs": [],
   "source": [
    "top10_women_ODI_allrounder=[]\n",
    "for i in soup6.find_all('div',class_=\"rankings-block__banner--name\"):\n",
    "    top10_women_ODI_allrounder.append(i.text)"
   ]
  },
  {
   "cell_type": "code",
   "execution_count": 238,
   "id": "5e625d13",
   "metadata": {},
   "outputs": [
    {
     "data": {
      "text/plain": [
       "['Chamari Athapaththu', 'Sophie Ecclestone', 'Hayley Matthews']"
      ]
     },
     "execution_count": 238,
     "metadata": {},
     "output_type": "execute_result"
    }
   ],
   "source": [
    "top10_women_ODI_allrounder"
   ]
  },
  {
   "cell_type": "code",
   "execution_count": 239,
   "id": "d127273f",
   "metadata": {},
   "outputs": [],
   "source": [
    "del top10_women_ODI_allrounder[0:2]"
   ]
  },
  {
   "cell_type": "code",
   "execution_count": 240,
   "id": "d2883ca2",
   "metadata": {},
   "outputs": [
    {
     "data": {
      "text/plain": [
       "['Hayley Matthews']"
      ]
     },
     "execution_count": 240,
     "metadata": {},
     "output_type": "execute_result"
    }
   ],
   "source": [
    "top10_women_ODI_allrounder"
   ]
  },
  {
   "cell_type": "code",
   "execution_count": 243,
   "id": "5aa00a33",
   "metadata": {},
   "outputs": [],
   "source": [
    "a1=[]\n",
    "for i in soup6.find_all('td',class_=\"table-body__cell name\"):\n",
    "    a1.append(i.text.split('\\n')[1])"
   ]
  },
  {
   "cell_type": "code",
   "execution_count": 244,
   "id": "642804bb",
   "metadata": {},
   "outputs": [
    {
     "data": {
      "text/plain": [
       "['Beth Mooney',\n",
       " 'Laura Wolvaardt',\n",
       " 'Natalie Sciver',\n",
       " 'Meg Lanning',\n",
       " 'Harmanpreet Kaur',\n",
       " 'Smriti Mandhana',\n",
       " 'Ellyse Perry',\n",
       " 'Stafanie Taylor',\n",
       " 'Tammy Beaumont',\n",
       " 'Jess Jonassen',\n",
       " 'Shabnim Ismail',\n",
       " 'Megan Schutt',\n",
       " 'Hayley Matthews',\n",
       " 'Kate Cross',\n",
       " 'Ayabonga Khaka',\n",
       " 'Rajeshwari Gayakwad',\n",
       " 'Marizanne Kapp',\n",
       " 'Deepti Sharma',\n",
       " 'Natalie Sciver',\n",
       " 'Ellyse Perry',\n",
       " 'Marizanne Kapp',\n",
       " 'Amelia Kerr',\n",
       " 'Deepti Sharma',\n",
       " 'Ashleigh Gardner',\n",
       " 'Jess Jonassen',\n",
       " 'Sophie Devine',\n",
       " 'Nida Dar']"
      ]
     },
     "execution_count": 244,
     "metadata": {},
     "output_type": "execute_result"
    }
   ],
   "source": [
    "a1"
   ]
  },
  {
   "cell_type": "code",
   "execution_count": 245,
   "id": "abbc3b07",
   "metadata": {},
   "outputs": [],
   "source": [
    "del a1[0:18]"
   ]
  },
  {
   "cell_type": "code",
   "execution_count": 246,
   "id": "fa578398",
   "metadata": {},
   "outputs": [
    {
     "data": {
      "text/plain": [
       "['Natalie Sciver',\n",
       " 'Ellyse Perry',\n",
       " 'Marizanne Kapp',\n",
       " 'Amelia Kerr',\n",
       " 'Deepti Sharma',\n",
       " 'Ashleigh Gardner',\n",
       " 'Jess Jonassen',\n",
       " 'Sophie Devine',\n",
       " 'Nida Dar']"
      ]
     },
     "execution_count": 246,
     "metadata": {},
     "output_type": "execute_result"
    }
   ],
   "source": [
    "a1"
   ]
  },
  {
   "cell_type": "code",
   "execution_count": 247,
   "id": "0a3fbb8b",
   "metadata": {},
   "outputs": [],
   "source": [
    "top10_women_ODI_allrounder.extend(a1)"
   ]
  },
  {
   "cell_type": "code",
   "execution_count": 248,
   "id": "400522fe",
   "metadata": {},
   "outputs": [
    {
     "data": {
      "text/plain": [
       "['Hayley Matthews',\n",
       " 'Natalie Sciver',\n",
       " 'Ellyse Perry',\n",
       " 'Marizanne Kapp',\n",
       " 'Amelia Kerr',\n",
       " 'Deepti Sharma',\n",
       " 'Ashleigh Gardner',\n",
       " 'Jess Jonassen',\n",
       " 'Sophie Devine',\n",
       " 'Nida Dar']"
      ]
     },
     "execution_count": 248,
     "metadata": {},
     "output_type": "execute_result"
    }
   ],
   "source": [
    "top10_women_ODI_allrounder"
   ]
  },
  {
   "cell_type": "code",
   "execution_count": 252,
   "id": "7cbdf19c",
   "metadata": {},
   "outputs": [],
   "source": [
    "wpteam=[]\n",
    "for i in soup6.find_all('div',class_=\"rankings-block__banner--nationality\"):\n",
    "    wpteam.append(i.text.split('\\n')[2])"
   ]
  },
  {
   "cell_type": "code",
   "execution_count": 253,
   "id": "f090c603",
   "metadata": {},
   "outputs": [
    {
     "data": {
      "text/plain": [
       "['SL', 'ENG', 'WI']"
      ]
     },
     "execution_count": 253,
     "metadata": {},
     "output_type": "execute_result"
    }
   ],
   "source": [
    "wpteam"
   ]
  },
  {
   "cell_type": "code",
   "execution_count": 254,
   "id": "c5089555",
   "metadata": {},
   "outputs": [],
   "source": [
    "del wpteam[0:2]"
   ]
  },
  {
   "cell_type": "code",
   "execution_count": 255,
   "id": "0e4cc22e",
   "metadata": {},
   "outputs": [
    {
     "data": {
      "text/plain": [
       "['WI']"
      ]
     },
     "execution_count": 255,
     "metadata": {},
     "output_type": "execute_result"
    }
   ],
   "source": [
    "wpteam"
   ]
  },
  {
   "cell_type": "code",
   "execution_count": 256,
   "id": "400c80d9",
   "metadata": {},
   "outputs": [],
   "source": [
    "a2=[]\n",
    "for i in soup6.find_all('span',class_=\"table-body__logo-text\"):\n",
    "    a2.append(i.text)"
   ]
  },
  {
   "cell_type": "code",
   "execution_count": 257,
   "id": "403f9e6f",
   "metadata": {},
   "outputs": [
    {
     "data": {
      "text/plain": [
       "['AUS',\n",
       " 'SA',\n",
       " 'ENG',\n",
       " 'AUS',\n",
       " 'IND',\n",
       " 'IND',\n",
       " 'AUS',\n",
       " 'WI',\n",
       " 'ENG',\n",
       " 'AUS',\n",
       " 'SA',\n",
       " 'AUS',\n",
       " 'WI',\n",
       " 'ENG',\n",
       " 'SA',\n",
       " 'IND',\n",
       " 'SA',\n",
       " 'IND',\n",
       " 'ENG',\n",
       " 'AUS',\n",
       " 'SA',\n",
       " 'NZ',\n",
       " 'IND',\n",
       " 'AUS',\n",
       " 'AUS',\n",
       " 'NZ',\n",
       " 'PAK']"
      ]
     },
     "execution_count": 257,
     "metadata": {},
     "output_type": "execute_result"
    }
   ],
   "source": [
    "a2"
   ]
  },
  {
   "cell_type": "code",
   "execution_count": 258,
   "id": "e0109c72",
   "metadata": {},
   "outputs": [],
   "source": [
    "del a2[0:18]"
   ]
  },
  {
   "cell_type": "code",
   "execution_count": 259,
   "id": "c3faf959",
   "metadata": {},
   "outputs": [
    {
     "data": {
      "text/plain": [
       "['ENG', 'AUS', 'SA', 'NZ', 'IND', 'AUS', 'AUS', 'NZ', 'PAK']"
      ]
     },
     "execution_count": 259,
     "metadata": {},
     "output_type": "execute_result"
    }
   ],
   "source": [
    "a2"
   ]
  },
  {
   "cell_type": "code",
   "execution_count": 260,
   "id": "ae4fbd3f",
   "metadata": {},
   "outputs": [],
   "source": [
    "wpteam.extend(a2)"
   ]
  },
  {
   "cell_type": "code",
   "execution_count": 261,
   "id": "434eebf5",
   "metadata": {},
   "outputs": [
    {
     "data": {
      "text/plain": [
       "['WI', 'ENG', 'AUS', 'SA', 'NZ', 'IND', 'AUS', 'AUS', 'NZ', 'PAK']"
      ]
     },
     "execution_count": 261,
     "metadata": {},
     "output_type": "execute_result"
    }
   ],
   "source": [
    "wpteam"
   ]
  },
  {
   "cell_type": "code",
   "execution_count": 262,
   "id": "b9c9c448",
   "metadata": {},
   "outputs": [],
   "source": [
    "wprating=[]\n",
    "for i in soup6.find_all('div',class_=\"rankings-block__banner--rating\"):\n",
    "    wprating.append(i.text)"
   ]
  },
  {
   "cell_type": "code",
   "execution_count": 263,
   "id": "16a8eead",
   "metadata": {},
   "outputs": [
    {
     "data": {
      "text/plain": [
       "['758', '751', '382']"
      ]
     },
     "execution_count": 263,
     "metadata": {},
     "output_type": "execute_result"
    }
   ],
   "source": [
    "wprating"
   ]
  },
  {
   "cell_type": "code",
   "execution_count": 264,
   "id": "9b78a304",
   "metadata": {},
   "outputs": [],
   "source": [
    "del wprating[0:2]"
   ]
  },
  {
   "cell_type": "code",
   "execution_count": 265,
   "id": "2492f196",
   "metadata": {},
   "outputs": [
    {
     "data": {
      "text/plain": [
       "['382']"
      ]
     },
     "execution_count": 265,
     "metadata": {},
     "output_type": "execute_result"
    }
   ],
   "source": [
    "wprating"
   ]
  },
  {
   "cell_type": "code",
   "execution_count": 266,
   "id": "87e65f0b",
   "metadata": {},
   "outputs": [],
   "source": [
    "a3=[]\n",
    "for i in soup6.find_all('td',class_=\"table-body__cell u-text-right rating\"):\n",
    "    a3.append(i.text)"
   ]
  },
  {
   "cell_type": "code",
   "execution_count": 267,
   "id": "c975aaba",
   "metadata": {},
   "outputs": [
    {
     "data": {
      "text/plain": [
       "['754',\n",
       " '732',\n",
       " '731',\n",
       " '717',\n",
       " '716',\n",
       " '714',\n",
       " '626',\n",
       " '618',\n",
       " '595',\n",
       " '723',\n",
       " '722',\n",
       " '704',\n",
       " '662',\n",
       " '655',\n",
       " '634',\n",
       " '617',\n",
       " '598',\n",
       " '589',\n",
       " '371',\n",
       " '366',\n",
       " '349',\n",
       " '328',\n",
       " '322',\n",
       " '292',\n",
       " '250',\n",
       " '233',\n",
       " '232']"
      ]
     },
     "execution_count": 267,
     "metadata": {},
     "output_type": "execute_result"
    }
   ],
   "source": [
    "a3"
   ]
  },
  {
   "cell_type": "code",
   "execution_count": 268,
   "id": "3cf9dfb2",
   "metadata": {},
   "outputs": [],
   "source": [
    "del a3[0:18]"
   ]
  },
  {
   "cell_type": "code",
   "execution_count": 269,
   "id": "e3aea102",
   "metadata": {},
   "outputs": [
    {
     "data": {
      "text/plain": [
       "['371', '366', '349', '328', '322', '292', '250', '233', '232']"
      ]
     },
     "execution_count": 269,
     "metadata": {},
     "output_type": "execute_result"
    }
   ],
   "source": [
    "a3"
   ]
  },
  {
   "cell_type": "code",
   "execution_count": 270,
   "id": "bab6ca28",
   "metadata": {},
   "outputs": [],
   "source": [
    "wprating.extend(a3)"
   ]
  },
  {
   "cell_type": "code",
   "execution_count": 271,
   "id": "c2846385",
   "metadata": {},
   "outputs": [
    {
     "data": {
      "text/plain": [
       "['382', '371', '366', '349', '328', '322', '292', '250', '233', '232']"
      ]
     },
     "execution_count": 271,
     "metadata": {},
     "output_type": "execute_result"
    }
   ],
   "source": [
    "wprating"
   ]
  },
  {
   "cell_type": "code",
   "execution_count": 272,
   "id": "f45dc1ad",
   "metadata": {},
   "outputs": [],
   "source": [
    "df8=pd.DataFrame({'top10_women_ODI_allrounder':top10_women_ODI_allrounder,'team':wpteam,'rating':wprating})"
   ]
  },
  {
   "cell_type": "code",
   "execution_count": 273,
   "id": "1e7ae016",
   "metadata": {},
   "outputs": [
    {
     "data": {
      "text/html": [
       "<div>\n",
       "<style scoped>\n",
       "    .dataframe tbody tr th:only-of-type {\n",
       "        vertical-align: middle;\n",
       "    }\n",
       "\n",
       "    .dataframe tbody tr th {\n",
       "        vertical-align: top;\n",
       "    }\n",
       "\n",
       "    .dataframe thead th {\n",
       "        text-align: right;\n",
       "    }\n",
       "</style>\n",
       "<table border=\"1\" class=\"dataframe\">\n",
       "  <thead>\n",
       "    <tr style=\"text-align: right;\">\n",
       "      <th></th>\n",
       "      <th>top10_women_ODI_allrounder</th>\n",
       "      <th>team</th>\n",
       "      <th>rating</th>\n",
       "    </tr>\n",
       "  </thead>\n",
       "  <tbody>\n",
       "    <tr>\n",
       "      <th>0</th>\n",
       "      <td>Hayley Matthews</td>\n",
       "      <td>WI</td>\n",
       "      <td>382</td>\n",
       "    </tr>\n",
       "    <tr>\n",
       "      <th>1</th>\n",
       "      <td>Natalie Sciver</td>\n",
       "      <td>ENG</td>\n",
       "      <td>371</td>\n",
       "    </tr>\n",
       "    <tr>\n",
       "      <th>2</th>\n",
       "      <td>Ellyse Perry</td>\n",
       "      <td>AUS</td>\n",
       "      <td>366</td>\n",
       "    </tr>\n",
       "    <tr>\n",
       "      <th>3</th>\n",
       "      <td>Marizanne Kapp</td>\n",
       "      <td>SA</td>\n",
       "      <td>349</td>\n",
       "    </tr>\n",
       "    <tr>\n",
       "      <th>4</th>\n",
       "      <td>Amelia Kerr</td>\n",
       "      <td>NZ</td>\n",
       "      <td>328</td>\n",
       "    </tr>\n",
       "    <tr>\n",
       "      <th>5</th>\n",
       "      <td>Deepti Sharma</td>\n",
       "      <td>IND</td>\n",
       "      <td>322</td>\n",
       "    </tr>\n",
       "    <tr>\n",
       "      <th>6</th>\n",
       "      <td>Ashleigh Gardner</td>\n",
       "      <td>AUS</td>\n",
       "      <td>292</td>\n",
       "    </tr>\n",
       "    <tr>\n",
       "      <th>7</th>\n",
       "      <td>Jess Jonassen</td>\n",
       "      <td>AUS</td>\n",
       "      <td>250</td>\n",
       "    </tr>\n",
       "    <tr>\n",
       "      <th>8</th>\n",
       "      <td>Sophie Devine</td>\n",
       "      <td>NZ</td>\n",
       "      <td>233</td>\n",
       "    </tr>\n",
       "    <tr>\n",
       "      <th>9</th>\n",
       "      <td>Nida Dar</td>\n",
       "      <td>PAK</td>\n",
       "      <td>232</td>\n",
       "    </tr>\n",
       "  </tbody>\n",
       "</table>\n",
       "</div>"
      ],
      "text/plain": [
       "  top10_women_ODI_allrounder team rating\n",
       "0            Hayley Matthews   WI    382\n",
       "1             Natalie Sciver  ENG    371\n",
       "2               Ellyse Perry  AUS    366\n",
       "3             Marizanne Kapp   SA    349\n",
       "4                Amelia Kerr   NZ    328\n",
       "5              Deepti Sharma  IND    322\n",
       "6           Ashleigh Gardner  AUS    292\n",
       "7              Jess Jonassen  AUS    250\n",
       "8              Sophie Devine   NZ    233\n",
       "9                   Nida Dar  PAK    232"
      ]
     },
     "execution_count": 273,
     "metadata": {},
     "output_type": "execute_result"
    }
   ],
   "source": [
    "df8"
   ]
  },
  {
   "cell_type": "markdown",
   "id": "e0ad5635",
   "metadata": {},
   "source": [
    "question no 5"
   ]
  },
  {
   "cell_type": "code",
   "execution_count": 274,
   "id": "41a6a8b7",
   "metadata": {},
   "outputs": [
    {
     "data": {
      "text/plain": [
       "<Response [200]>"
      ]
     },
     "execution_count": 274,
     "metadata": {},
     "output_type": "execute_result"
    }
   ],
   "source": [
    "page7=requests.get('https://www.cnbc.com/world/?region=world')\n",
    "page7"
   ]
  },
  {
   "cell_type": "code",
   "execution_count": 275,
   "id": "70c844e2",
   "metadata": {},
   "outputs": [],
   "source": [
    "soup7=BeautifulSoup(page7.content)"
   ]
  },
  {
   "cell_type": "code",
   "execution_count": 278,
   "id": "b642c17b",
   "metadata": {},
   "outputs": [],
   "source": [
    "headline=[]\n",
    "for i in soup7.find_all('a',class_=\"LatestNews-headline\"):\n",
    "    headline.append(i.text)"
   ]
  },
  {
   "cell_type": "code",
   "execution_count": 279,
   "id": "987c7d71",
   "metadata": {},
   "outputs": [
    {
     "data": {
      "text/plain": [
       "['These stocks that are about to turn a profit should outperform, Jefferies says',\n",
       " 'Earnings playbook: JPMorgan Chase and Delta Air Lines kick off the season',\n",
       " \"Yellen says Beijing talks a step forward in putting U.S.-China ties on 'surer footing'\",\n",
       " 'U.S. soccer star Megan Rapinoe announces retirement ',\n",
       " 'How to start a pet-sitting side hustle—you could make as much as $40 per hour',\n",
       " '3 things to pay attention to in the markets this coming week',\n",
       " 'These U.S. states have the best and the worst tap water',\n",
       " \"The No. 1 vitamin kids in the U.S. 'aren't getting enough of' today: Dietitian and parenting expert\",\n",
       " 'How the generative A.I. boom could forever change online advertising',\n",
       " 'The 10 U.S. cities where rent has increased the most in the last year',\n",
       " \"As 'bougie broke' videos trend, here's why experts say that's not a bad thing\",\n",
       " 'The Fed rolls out a new economic index that could have big implications',\n",
       " \"Active funds are powering JPMorgan's ETFs past rivals — Why it may continue\",\n",
       " 'Micron and Pfizer are the most oversold S&P 500 stocks. Here are the others',\n",
       " \"Medicare will pay for Alzheimer's drug Leqembi. What patients, doctors should know\",\n",
       " 'Buy Buy Baby auction is canceled, but buyers are still interested in making a bid',\n",
       " \"Elon Musk's Twitter sues top law firm Wachtell over $90 million fee \",\n",
       " \"Biogen falls after Alzheimer’s drug approval. Here's what the pros are saying\",\n",
       " \"Justin Bieber's Bored Ape NFT has lost about 95% of its value since 2022\",\n",
       " 'How the SAVE plan can help student loan borrowers reduce monthly payments',\n",
       " \"While Americans fear a recession as severe as 2008, here's why experts disagree\",\n",
       " \"Here's how much the $615 million Powerball jackpot winner may owe in taxes\",\n",
       " '10 U.S. counties where prospective buyers need to earn the most to afford a home',\n",
       " 'Two health-care stocks are in the headlines. How the news impacts our investments',\n",
       " \"Fed's Goolsbee sees 'golden path' to lower inflation without a recession\",\n",
       " \"Meta Threads doesn't need the 'negativity' of hard news and politics, exec says\",\n",
       " 'Small businesses may have a hard time finding teen workers this summer',\n",
       " 'June inflation data will be closely watched by investors in the week ahead',\n",
       " 'Sales of Alzheimer’s drug Leqembi may be slow at first, analysts say',\n",
       " \"These stocks, plus Tesla, are this week's top performers as the S&P 500 falls\"]"
      ]
     },
     "execution_count": 279,
     "metadata": {},
     "output_type": "execute_result"
    }
   ],
   "source": [
    "headline"
   ]
  },
  {
   "cell_type": "code",
   "execution_count": 280,
   "id": "61346e95",
   "metadata": {},
   "outputs": [
    {
     "data": {
      "text/plain": [
       "['13 Min Ago',\n",
       " '16 Min Ago',\n",
       " '7 Hours Ago',\n",
       " '17 Hours Ago',\n",
       " '21 Hours Ago',\n",
       " '21 Hours Ago',\n",
       " '21 Hours Ago',\n",
       " '22 Hours Ago',\n",
       " '22 Hours Ago',\n",
       " '22 Hours Ago',\n",
       " '22 Hours Ago',\n",
       " '22 Hours Ago',\n",
       " '22 Hours Ago',\n",
       " '23 Hours Ago',\n",
       " 'July 8, 2023',\n",
       " 'July 7, 2023',\n",
       " 'July 7, 2023',\n",
       " 'July 7, 2023',\n",
       " 'July 7, 2023',\n",
       " 'July 7, 2023',\n",
       " 'July 7, 2023',\n",
       " 'July 7, 2023',\n",
       " 'July 7, 2023',\n",
       " 'July 7, 2023',\n",
       " 'July 7, 2023',\n",
       " 'July 7, 2023',\n",
       " 'July 7, 2023',\n",
       " 'July 7, 2023',\n",
       " 'July 7, 2023',\n",
       " 'July 7, 2023']"
      ]
     },
     "execution_count": 280,
     "metadata": {},
     "output_type": "execute_result"
    }
   ],
   "source": [
    "time=[]\n",
    "for i in soup7.find_all('time',class_=\"LatestNews-timestamp\"):\n",
    "    time.append(i.text)\n",
    "    \n",
    "time"
   ]
  },
  {
   "cell_type": "code",
   "execution_count": 283,
   "id": "130bddbe",
   "metadata": {},
   "outputs": [],
   "source": [
    "link=[]\n",
    "for i in soup7.find_all('a',class_=\"LatestNews-headline\"):\n",
    "    link.append(i.get('href'))"
   ]
  },
  {
   "cell_type": "code",
   "execution_count": 284,
   "id": "393cef14",
   "metadata": {},
   "outputs": [
    {
     "data": {
      "text/plain": [
       "['https://www.cnbc.com/2023/07/09/these-stocks-that-are-about-to-turn-a-profit-should-beat-the-market-jefferies-says.html',\n",
       " 'https://www.cnbc.com/2023/07/09/earnings-playbook-jpmorgan-chase-and-delta-air-lines-kick-off-the-season.html',\n",
       " 'https://www.cnbc.com/2023/07/09/janet-yellen-comments-on-us-china-relations-during-beijing-visit-.html',\n",
       " 'https://www.cnbc.com/2023/07/08/us-soccer-star-megan-rapinoe-announces-retirement-.html',\n",
       " 'https://www.cnbc.com/2023/07/08/how-to-start-a-side-hustle-as-a-pet-sitter-.html',\n",
       " 'https://www.cnbc.com/2023/07/08/3-things-to-pay-attention-to-in-the-markets-this-coming-week.html',\n",
       " 'https://www.cnbc.com/2023/07/08/best-and-worst-tap-water-states-j-d-power-study.html',\n",
       " 'https://www.cnbc.com/2023/07/08/no-1-nutrient-vitamin-american-kids-today-arent-getting-enough-of-according-to-dietitian-parenting-expert.html',\n",
       " 'https://www.cnbc.com/2023/07/08/how-the-generative-ai-boom-could-forever-change-online-advertising.html',\n",
       " 'https://www.cnbc.com/2023/07/08/us-cities-where-rent-has-increased-the-most.html',\n",
       " 'https://www.cnbc.com/2023/07/08/as-bougie-broke-videos-trend-experts-say-thats-not-a-bad-thing.html',\n",
       " 'https://www.cnbc.com/2023/07/08/the-fed-has-rolled-out-a-new-index-for-gauging-the-economy-that-could-have-big-implications.html',\n",
       " 'https://www.cnbc.com/2023/07/08/active-funds-are-powering-jpmorgans-etfs-past-rivals-heres-why-it-may-continue.html',\n",
       " 'https://www.cnbc.com/2023/07/08/micron-and-pfizer-are-the-most-oversold-sp-500-stocks-here-are-the-other-buying-opportunities.html',\n",
       " 'https://www.cnbc.com/2023/07/08/leqembi-and-medicare-what-patients-and-doctors-should-know.html',\n",
       " 'https://www.cnbc.com/2023/07/07/buy-buy-baby-auction-canceled-bidders-still-interested.html',\n",
       " 'https://www.cnbc.com/2023/07/07/elon-musks-twitter-sues-top-law-firm-wachtell-over-90-million-fee-.html',\n",
       " 'https://www.cnbc.com/2023/07/07/biogen-falls-after-alzheimers-drug-approval-what-the-pros-are-saying.html',\n",
       " 'https://www.cnbc.com/2023/07/07/justin-biebers-bored-ape-nft-has-lost-95-percent-of-its-value-since-2022.html',\n",
       " 'https://www.cnbc.com/2023/07/07/save-plan-helps-student-loan-borrowers-lower-monthly-payments.html',\n",
       " 'https://www.cnbc.com/2023/07/07/americans-fear-a-recession-may-be-as-severe-as-2008-experts-disagree.html',\n",
       " 'https://www.cnbc.com/2023/07/07/heres-how-much-the-powerball-jackpot-winner-may-owe-in-taxes.html',\n",
       " 'https://www.cnbc.com/2023/07/07/most-expensive-places-buy-a-home-attom-report.html',\n",
       " 'https://www.cnbc.com/2023/07/07/two-health-care-stocks-are-in-the-headlines-how-the-news-impacts-our-investments.html',\n",
       " 'https://www.cnbc.com/2023/07/07/feds-goolsbee-sees-golden-path-to-lower-inflation-without-a-recession.html',\n",
       " 'https://www.cnbc.com/2023/07/07/threads-doesnt-need-negativity-of-hard-news-politics-meta-exec.html',\n",
       " 'https://www.cnbc.com/2023/07/07/small-businesses-teen-workers-labor-market.html',\n",
       " 'https://www.cnbc.com/2023/07/07/june-inflation-data-will-be-closely-watched-by-traders-in-coming-week.html',\n",
       " 'https://www.cnbc.com/2023/07/07/alzheimers-drug-leqembi-sales-may-be-slow-at-first-analysts.html',\n",
       " 'https://www.cnbc.com/2023/07/07/these-stocks-including-tesla-are-this-weeks-top-performers-as-the-sp-500-falls.html']"
      ]
     },
     "execution_count": 284,
     "metadata": {},
     "output_type": "execute_result"
    }
   ],
   "source": [
    "link"
   ]
  },
  {
   "cell_type": "code",
   "execution_count": 285,
   "id": "5fe3c529",
   "metadata": {},
   "outputs": [],
   "source": [
    "df8=pd.DataFrame({'headline':headline,'time':time,'link':link})"
   ]
  },
  {
   "cell_type": "code",
   "execution_count": 286,
   "id": "ce06f6e2",
   "metadata": {},
   "outputs": [
    {
     "data": {
      "text/html": [
       "<div>\n",
       "<style scoped>\n",
       "    .dataframe tbody tr th:only-of-type {\n",
       "        vertical-align: middle;\n",
       "    }\n",
       "\n",
       "    .dataframe tbody tr th {\n",
       "        vertical-align: top;\n",
       "    }\n",
       "\n",
       "    .dataframe thead th {\n",
       "        text-align: right;\n",
       "    }\n",
       "</style>\n",
       "<table border=\"1\" class=\"dataframe\">\n",
       "  <thead>\n",
       "    <tr style=\"text-align: right;\">\n",
       "      <th></th>\n",
       "      <th>headline</th>\n",
       "      <th>time</th>\n",
       "      <th>link</th>\n",
       "    </tr>\n",
       "  </thead>\n",
       "  <tbody>\n",
       "    <tr>\n",
       "      <th>0</th>\n",
       "      <td>These stocks that are about to turn a profit s...</td>\n",
       "      <td>13 Min Ago</td>\n",
       "      <td>https://www.cnbc.com/2023/07/09/these-stocks-t...</td>\n",
       "    </tr>\n",
       "    <tr>\n",
       "      <th>1</th>\n",
       "      <td>Earnings playbook: JPMorgan Chase and Delta Ai...</td>\n",
       "      <td>16 Min Ago</td>\n",
       "      <td>https://www.cnbc.com/2023/07/09/earnings-playb...</td>\n",
       "    </tr>\n",
       "    <tr>\n",
       "      <th>2</th>\n",
       "      <td>Yellen says Beijing talks a step forward in pu...</td>\n",
       "      <td>7 Hours Ago</td>\n",
       "      <td>https://www.cnbc.com/2023/07/09/janet-yellen-c...</td>\n",
       "    </tr>\n",
       "    <tr>\n",
       "      <th>3</th>\n",
       "      <td>U.S. soccer star Megan Rapinoe announces retir...</td>\n",
       "      <td>17 Hours Ago</td>\n",
       "      <td>https://www.cnbc.com/2023/07/08/us-soccer-star...</td>\n",
       "    </tr>\n",
       "    <tr>\n",
       "      <th>4</th>\n",
       "      <td>How to start a pet-sitting side hustle—you cou...</td>\n",
       "      <td>21 Hours Ago</td>\n",
       "      <td>https://www.cnbc.com/2023/07/08/how-to-start-a...</td>\n",
       "    </tr>\n",
       "    <tr>\n",
       "      <th>5</th>\n",
       "      <td>3 things to pay attention to in the markets th...</td>\n",
       "      <td>21 Hours Ago</td>\n",
       "      <td>https://www.cnbc.com/2023/07/08/3-things-to-pa...</td>\n",
       "    </tr>\n",
       "    <tr>\n",
       "      <th>6</th>\n",
       "      <td>These U.S. states have the best and the worst ...</td>\n",
       "      <td>21 Hours Ago</td>\n",
       "      <td>https://www.cnbc.com/2023/07/08/best-and-worst...</td>\n",
       "    </tr>\n",
       "    <tr>\n",
       "      <th>7</th>\n",
       "      <td>The No. 1 vitamin kids in the U.S. 'aren't get...</td>\n",
       "      <td>22 Hours Ago</td>\n",
       "      <td>https://www.cnbc.com/2023/07/08/no-1-nutrient-...</td>\n",
       "    </tr>\n",
       "    <tr>\n",
       "      <th>8</th>\n",
       "      <td>How the generative A.I. boom could forever cha...</td>\n",
       "      <td>22 Hours Ago</td>\n",
       "      <td>https://www.cnbc.com/2023/07/08/how-the-genera...</td>\n",
       "    </tr>\n",
       "    <tr>\n",
       "      <th>9</th>\n",
       "      <td>The 10 U.S. cities where rent has increased th...</td>\n",
       "      <td>22 Hours Ago</td>\n",
       "      <td>https://www.cnbc.com/2023/07/08/us-cities-wher...</td>\n",
       "    </tr>\n",
       "    <tr>\n",
       "      <th>10</th>\n",
       "      <td>As 'bougie broke' videos trend, here's why exp...</td>\n",
       "      <td>22 Hours Ago</td>\n",
       "      <td>https://www.cnbc.com/2023/07/08/as-bougie-brok...</td>\n",
       "    </tr>\n",
       "    <tr>\n",
       "      <th>11</th>\n",
       "      <td>The Fed rolls out a new economic index that co...</td>\n",
       "      <td>22 Hours Ago</td>\n",
       "      <td>https://www.cnbc.com/2023/07/08/the-fed-has-ro...</td>\n",
       "    </tr>\n",
       "    <tr>\n",
       "      <th>12</th>\n",
       "      <td>Active funds are powering JPMorgan's ETFs past...</td>\n",
       "      <td>22 Hours Ago</td>\n",
       "      <td>https://www.cnbc.com/2023/07/08/active-funds-a...</td>\n",
       "    </tr>\n",
       "    <tr>\n",
       "      <th>13</th>\n",
       "      <td>Micron and Pfizer are the most oversold S&amp;P 50...</td>\n",
       "      <td>23 Hours Ago</td>\n",
       "      <td>https://www.cnbc.com/2023/07/08/micron-and-pfi...</td>\n",
       "    </tr>\n",
       "    <tr>\n",
       "      <th>14</th>\n",
       "      <td>Medicare will pay for Alzheimer's drug Leqembi...</td>\n",
       "      <td>July 8, 2023</td>\n",
       "      <td>https://www.cnbc.com/2023/07/08/leqembi-and-me...</td>\n",
       "    </tr>\n",
       "    <tr>\n",
       "      <th>15</th>\n",
       "      <td>Buy Buy Baby auction is canceled, but buyers a...</td>\n",
       "      <td>July 7, 2023</td>\n",
       "      <td>https://www.cnbc.com/2023/07/07/buy-buy-baby-a...</td>\n",
       "    </tr>\n",
       "    <tr>\n",
       "      <th>16</th>\n",
       "      <td>Elon Musk's Twitter sues top law firm Wachtell...</td>\n",
       "      <td>July 7, 2023</td>\n",
       "      <td>https://www.cnbc.com/2023/07/07/elon-musks-twi...</td>\n",
       "    </tr>\n",
       "    <tr>\n",
       "      <th>17</th>\n",
       "      <td>Biogen falls after Alzheimer’s drug approval. ...</td>\n",
       "      <td>July 7, 2023</td>\n",
       "      <td>https://www.cnbc.com/2023/07/07/biogen-falls-a...</td>\n",
       "    </tr>\n",
       "    <tr>\n",
       "      <th>18</th>\n",
       "      <td>Justin Bieber's Bored Ape NFT has lost about 9...</td>\n",
       "      <td>July 7, 2023</td>\n",
       "      <td>https://www.cnbc.com/2023/07/07/justin-biebers...</td>\n",
       "    </tr>\n",
       "    <tr>\n",
       "      <th>19</th>\n",
       "      <td>How the SAVE plan can help student loan borrow...</td>\n",
       "      <td>July 7, 2023</td>\n",
       "      <td>https://www.cnbc.com/2023/07/07/save-plan-help...</td>\n",
       "    </tr>\n",
       "    <tr>\n",
       "      <th>20</th>\n",
       "      <td>While Americans fear a recession as severe as ...</td>\n",
       "      <td>July 7, 2023</td>\n",
       "      <td>https://www.cnbc.com/2023/07/07/americans-fear...</td>\n",
       "    </tr>\n",
       "    <tr>\n",
       "      <th>21</th>\n",
       "      <td>Here's how much the $615 million Powerball jac...</td>\n",
       "      <td>July 7, 2023</td>\n",
       "      <td>https://www.cnbc.com/2023/07/07/heres-how-much...</td>\n",
       "    </tr>\n",
       "    <tr>\n",
       "      <th>22</th>\n",
       "      <td>10 U.S. counties where prospective buyers need...</td>\n",
       "      <td>July 7, 2023</td>\n",
       "      <td>https://www.cnbc.com/2023/07/07/most-expensive...</td>\n",
       "    </tr>\n",
       "    <tr>\n",
       "      <th>23</th>\n",
       "      <td>Two health-care stocks are in the headlines. H...</td>\n",
       "      <td>July 7, 2023</td>\n",
       "      <td>https://www.cnbc.com/2023/07/07/two-health-car...</td>\n",
       "    </tr>\n",
       "    <tr>\n",
       "      <th>24</th>\n",
       "      <td>Fed's Goolsbee sees 'golden path' to lower inf...</td>\n",
       "      <td>July 7, 2023</td>\n",
       "      <td>https://www.cnbc.com/2023/07/07/feds-goolsbee-...</td>\n",
       "    </tr>\n",
       "    <tr>\n",
       "      <th>25</th>\n",
       "      <td>Meta Threads doesn't need the 'negativity' of ...</td>\n",
       "      <td>July 7, 2023</td>\n",
       "      <td>https://www.cnbc.com/2023/07/07/threads-doesnt...</td>\n",
       "    </tr>\n",
       "    <tr>\n",
       "      <th>26</th>\n",
       "      <td>Small businesses may have a hard time finding ...</td>\n",
       "      <td>July 7, 2023</td>\n",
       "      <td>https://www.cnbc.com/2023/07/07/small-business...</td>\n",
       "    </tr>\n",
       "    <tr>\n",
       "      <th>27</th>\n",
       "      <td>June inflation data will be closely watched by...</td>\n",
       "      <td>July 7, 2023</td>\n",
       "      <td>https://www.cnbc.com/2023/07/07/june-inflation...</td>\n",
       "    </tr>\n",
       "    <tr>\n",
       "      <th>28</th>\n",
       "      <td>Sales of Alzheimer’s drug Leqembi may be slow ...</td>\n",
       "      <td>July 7, 2023</td>\n",
       "      <td>https://www.cnbc.com/2023/07/07/alzheimers-dru...</td>\n",
       "    </tr>\n",
       "    <tr>\n",
       "      <th>29</th>\n",
       "      <td>These stocks, plus Tesla, are this week's top ...</td>\n",
       "      <td>July 7, 2023</td>\n",
       "      <td>https://www.cnbc.com/2023/07/07/these-stocks-i...</td>\n",
       "    </tr>\n",
       "  </tbody>\n",
       "</table>\n",
       "</div>"
      ],
      "text/plain": [
       "                                             headline          time  \\\n",
       "0   These stocks that are about to turn a profit s...    13 Min Ago   \n",
       "1   Earnings playbook: JPMorgan Chase and Delta Ai...    16 Min Ago   \n",
       "2   Yellen says Beijing talks a step forward in pu...   7 Hours Ago   \n",
       "3   U.S. soccer star Megan Rapinoe announces retir...  17 Hours Ago   \n",
       "4   How to start a pet-sitting side hustle—you cou...  21 Hours Ago   \n",
       "5   3 things to pay attention to in the markets th...  21 Hours Ago   \n",
       "6   These U.S. states have the best and the worst ...  21 Hours Ago   \n",
       "7   The No. 1 vitamin kids in the U.S. 'aren't get...  22 Hours Ago   \n",
       "8   How the generative A.I. boom could forever cha...  22 Hours Ago   \n",
       "9   The 10 U.S. cities where rent has increased th...  22 Hours Ago   \n",
       "10  As 'bougie broke' videos trend, here's why exp...  22 Hours Ago   \n",
       "11  The Fed rolls out a new economic index that co...  22 Hours Ago   \n",
       "12  Active funds are powering JPMorgan's ETFs past...  22 Hours Ago   \n",
       "13  Micron and Pfizer are the most oversold S&P 50...  23 Hours Ago   \n",
       "14  Medicare will pay for Alzheimer's drug Leqembi...  July 8, 2023   \n",
       "15  Buy Buy Baby auction is canceled, but buyers a...  July 7, 2023   \n",
       "16  Elon Musk's Twitter sues top law firm Wachtell...  July 7, 2023   \n",
       "17  Biogen falls after Alzheimer’s drug approval. ...  July 7, 2023   \n",
       "18  Justin Bieber's Bored Ape NFT has lost about 9...  July 7, 2023   \n",
       "19  How the SAVE plan can help student loan borrow...  July 7, 2023   \n",
       "20  While Americans fear a recession as severe as ...  July 7, 2023   \n",
       "21  Here's how much the $615 million Powerball jac...  July 7, 2023   \n",
       "22  10 U.S. counties where prospective buyers need...  July 7, 2023   \n",
       "23  Two health-care stocks are in the headlines. H...  July 7, 2023   \n",
       "24  Fed's Goolsbee sees 'golden path' to lower inf...  July 7, 2023   \n",
       "25  Meta Threads doesn't need the 'negativity' of ...  July 7, 2023   \n",
       "26  Small businesses may have a hard time finding ...  July 7, 2023   \n",
       "27  June inflation data will be closely watched by...  July 7, 2023   \n",
       "28  Sales of Alzheimer’s drug Leqembi may be slow ...  July 7, 2023   \n",
       "29  These stocks, plus Tesla, are this week's top ...  July 7, 2023   \n",
       "\n",
       "                                                 link  \n",
       "0   https://www.cnbc.com/2023/07/09/these-stocks-t...  \n",
       "1   https://www.cnbc.com/2023/07/09/earnings-playb...  \n",
       "2   https://www.cnbc.com/2023/07/09/janet-yellen-c...  \n",
       "3   https://www.cnbc.com/2023/07/08/us-soccer-star...  \n",
       "4   https://www.cnbc.com/2023/07/08/how-to-start-a...  \n",
       "5   https://www.cnbc.com/2023/07/08/3-things-to-pa...  \n",
       "6   https://www.cnbc.com/2023/07/08/best-and-worst...  \n",
       "7   https://www.cnbc.com/2023/07/08/no-1-nutrient-...  \n",
       "8   https://www.cnbc.com/2023/07/08/how-the-genera...  \n",
       "9   https://www.cnbc.com/2023/07/08/us-cities-wher...  \n",
       "10  https://www.cnbc.com/2023/07/08/as-bougie-brok...  \n",
       "11  https://www.cnbc.com/2023/07/08/the-fed-has-ro...  \n",
       "12  https://www.cnbc.com/2023/07/08/active-funds-a...  \n",
       "13  https://www.cnbc.com/2023/07/08/micron-and-pfi...  \n",
       "14  https://www.cnbc.com/2023/07/08/leqembi-and-me...  \n",
       "15  https://www.cnbc.com/2023/07/07/buy-buy-baby-a...  \n",
       "16  https://www.cnbc.com/2023/07/07/elon-musks-twi...  \n",
       "17  https://www.cnbc.com/2023/07/07/biogen-falls-a...  \n",
       "18  https://www.cnbc.com/2023/07/07/justin-biebers...  \n",
       "19  https://www.cnbc.com/2023/07/07/save-plan-help...  \n",
       "20  https://www.cnbc.com/2023/07/07/americans-fear...  \n",
       "21  https://www.cnbc.com/2023/07/07/heres-how-much...  \n",
       "22  https://www.cnbc.com/2023/07/07/most-expensive...  \n",
       "23  https://www.cnbc.com/2023/07/07/two-health-car...  \n",
       "24  https://www.cnbc.com/2023/07/07/feds-goolsbee-...  \n",
       "25  https://www.cnbc.com/2023/07/07/threads-doesnt...  \n",
       "26  https://www.cnbc.com/2023/07/07/small-business...  \n",
       "27  https://www.cnbc.com/2023/07/07/june-inflation...  \n",
       "28  https://www.cnbc.com/2023/07/07/alzheimers-dru...  \n",
       "29  https://www.cnbc.com/2023/07/07/these-stocks-i...  "
      ]
     },
     "execution_count": 286,
     "metadata": {},
     "output_type": "execute_result"
    }
   ],
   "source": [
    "df8"
   ]
  },
  {
   "cell_type": "markdown",
   "id": "39bf82be",
   "metadata": {},
   "source": [
    "question no 6"
   ]
  },
  {
   "cell_type": "code",
   "execution_count": 287,
   "id": "9ad48530",
   "metadata": {},
   "outputs": [
    {
     "data": {
      "text/plain": [
       "<Response [200]>"
      ]
     },
     "execution_count": 287,
     "metadata": {},
     "output_type": "execute_result"
    }
   ],
   "source": [
    "page8=requests.get('https://www.journals.elsevier.com/artificial-intelligence/most-downloaded-articles')\n",
    "page8"
   ]
  },
  {
   "cell_type": "code",
   "execution_count": 288,
   "id": "a5023cb4",
   "metadata": {},
   "outputs": [],
   "source": [
    "soup8=BeautifulSoup(page8.content)"
   ]
  },
  {
   "cell_type": "code",
   "execution_count": 289,
   "id": "ba707ef7",
   "metadata": {},
   "outputs": [],
   "source": [
    "paper_title=[]\n",
    "for i in soup8.find_all('h2',class_=\"sc-1qrq3sd-1 gRGSUS sc-1nmom32-0 sc-1nmom32-1 btcbYu goSKRg\"):\n",
    "    paper_title.append(i.text)"
   ]
  },
  {
   "cell_type": "code",
   "execution_count": 290,
   "id": "37280e03",
   "metadata": {},
   "outputs": [
    {
     "data": {
      "text/plain": [
       "['Reward is enough',\n",
       " 'Explanation in artificial intelligence: Insights from the social sciences',\n",
       " 'Creativity and artificial intelligence',\n",
       " 'Conflict-based search for optimal multi-agent pathfinding',\n",
       " 'Knowledge graphs as tools for explainable machine learning: A survey',\n",
       " 'Law and logic: A review from an argumentation perspective',\n",
       " 'Between MDPs and semi-MDPs: A framework for temporal abstraction in reinforcement learning',\n",
       " 'Explaining individual predictions when features are dependent: More accurate approximations to Shapley values',\n",
       " 'Multiple object tracking: A literature review',\n",
       " 'A survey of inverse reinforcement learning: Challenges, methods and progress',\n",
       " 'Evaluating XAI: A comparison of rule-based and example-based explanations',\n",
       " 'Explainable AI tools for legal reasoning about cases: A study on the European Court of Human Rights',\n",
       " 'Hard choices in artificial intelligence',\n",
       " 'Assessing the communication gap between AI models and healthcare professionals: Explainability, utility and trust in AI-driven clinical decision-making',\n",
       " 'Explaining black-box classifiers using post-hoc explanations-by-example: The effect of explanations and error-rates in XAI user studies',\n",
       " 'The Hanabi challenge: A new frontier for AI research',\n",
       " 'Wrappers for feature subset selection',\n",
       " 'Artificial cognition for social human–robot interaction: An implementation',\n",
       " 'A review of possible effects of cognitive biases on interpretation of rule-based machine learning models',\n",
       " 'The multifaceted impact of Ada Lovelace in the digital age',\n",
       " 'Robot ethics: Mapping the issues for a mechanized world',\n",
       " 'Reward (Mis)design for autonomous driving',\n",
       " 'Planning and acting in partially observable stochastic domains',\n",
       " 'What do we want from Explainable Artificial Intelligence (XAI)? – A stakeholder perspective on XAI and a conceptual model guiding interdisciplinary XAI research']"
      ]
     },
     "execution_count": 290,
     "metadata": {},
     "output_type": "execute_result"
    }
   ],
   "source": [
    "paper_title"
   ]
  },
  {
   "cell_type": "code",
   "execution_count": 291,
   "id": "b1fee200",
   "metadata": {},
   "outputs": [],
   "source": [
    "authors=[]\n",
    "for i in soup8.find_all('span',class_=\"sc-1w3fpd7-0 dnCnAO\"):\n",
    "    authors.append(i.text)"
   ]
  },
  {
   "cell_type": "code",
   "execution_count": 292,
   "id": "460d6705",
   "metadata": {},
   "outputs": [
    {
     "data": {
      "text/plain": [
       "['David Silver, Satinder Singh, Doina Precup, Richard S. Sutton ',\n",
       " 'Tim Miller ',\n",
       " 'Margaret A. Boden ',\n",
       " 'Guni Sharon, Roni Stern, Ariel Felner, Nathan R. Sturtevant ',\n",
       " 'Ilaria Tiddi, Stefan Schlobach ',\n",
       " 'Henry Prakken, Giovanni Sartor ',\n",
       " 'Richard S. Sutton, Doina Precup, Satinder Singh ',\n",
       " 'Kjersti Aas, Martin Jullum, Anders Løland ',\n",
       " 'Wenhan Luo, Junliang Xing and 4 more',\n",
       " 'Saurabh Arora, Prashant Doshi ',\n",
       " 'Jasper van der Waa, Elisabeth Nieuwburg, Anita Cremers, Mark Neerincx ',\n",
       " 'Joe Collenette, Katie Atkinson, Trevor Bench-Capon ',\n",
       " 'Roel Dobbe, Thomas Krendl Gilbert, Yonatan Mintz ',\n",
       " 'Oskar Wysocki, Jessica Katharine Davies and 5 more',\n",
       " 'Eoin M. Kenny, Courtney Ford, Molly Quinn, Mark T. Keane ',\n",
       " 'Nolan Bard, Jakob N. Foerster and 13 more',\n",
       " 'Ron Kohavi, George H. John ',\n",
       " 'Séverin Lemaignan, Mathieu Warnier and 3 more',\n",
       " 'Tomáš Kliegr, Štěpán Bahník, Johannes Fürnkranz ',\n",
       " 'Luigia Carlucci Aiello ',\n",
       " 'Patrick Lin, Keith Abney, George Bekey ',\n",
       " 'W. Bradley Knox, Alessandro Allievi and 3 more',\n",
       " 'Leslie Pack Kaelbling, Michael L. Littman, Anthony R. Cassandra ',\n",
       " 'Markus Langer, Daniel Oster and 6 more']"
      ]
     },
     "execution_count": 292,
     "metadata": {},
     "output_type": "execute_result"
    }
   ],
   "source": [
    "authors"
   ]
  },
  {
   "cell_type": "code",
   "execution_count": 293,
   "id": "88664bf2",
   "metadata": {},
   "outputs": [],
   "source": [
    "published_date=[]\n",
    "for i in soup8.find_all('span',class_=\"sc-1thf9ly-2 dvggWt\"):\n",
    "    published_date.append(i.text)"
   ]
  },
  {
   "cell_type": "code",
   "execution_count": 294,
   "id": "29056de6",
   "metadata": {},
   "outputs": [
    {
     "data": {
      "text/plain": [
       "['October 2021',\n",
       " 'February 2019',\n",
       " 'August 1998',\n",
       " 'February 2015',\n",
       " 'January 2022',\n",
       " 'October 2015',\n",
       " 'August 1999',\n",
       " 'September 2021',\n",
       " 'April 2021',\n",
       " 'August 2021',\n",
       " 'February 2021',\n",
       " 'April 2023',\n",
       " 'November 2021',\n",
       " 'March 2023',\n",
       " 'May 2021',\n",
       " 'March 2020',\n",
       " 'December 1997',\n",
       " 'June 2017',\n",
       " 'June 2021',\n",
       " 'June 2016',\n",
       " 'April 2011',\n",
       " 'March 2023',\n",
       " 'May 1998',\n",
       " 'July 2021']"
      ]
     },
     "execution_count": 294,
     "metadata": {},
     "output_type": "execute_result"
    }
   ],
   "source": [
    "published_date"
   ]
  },
  {
   "cell_type": "code",
   "execution_count": 295,
   "id": "2ba7e6d7",
   "metadata": {},
   "outputs": [],
   "source": [
    "paper_url=[]\n",
    "for i in soup8.find_all('a',class_=\"sc-5smygv-0 fIXTHm\"):\n",
    "    paper_url.append(i.get('href'))"
   ]
  },
  {
   "cell_type": "code",
   "execution_count": 296,
   "id": "e616073a",
   "metadata": {},
   "outputs": [
    {
     "data": {
      "text/plain": [
       "['https://www.sciencedirect.com/science/article/pii/S0004370221000862',\n",
       " 'https://www.sciencedirect.com/science/article/pii/S0004370218305988',\n",
       " 'https://www.sciencedirect.com/science/article/pii/S0004370298000551',\n",
       " 'https://www.sciencedirect.com/science/article/pii/S0004370214001386',\n",
       " 'https://www.sciencedirect.com/science/article/pii/S0004370221001788',\n",
       " 'https://www.sciencedirect.com/science/article/pii/S0004370215000910',\n",
       " 'https://www.sciencedirect.com/science/article/pii/S0004370299000521',\n",
       " 'https://www.sciencedirect.com/science/article/pii/S0004370221000539',\n",
       " 'https://www.sciencedirect.com/science/article/pii/S0004370220301958',\n",
       " 'https://www.sciencedirect.com/science/article/pii/S0004370221000515',\n",
       " 'https://www.sciencedirect.com/science/article/pii/S0004370220301533',\n",
       " 'https://www.sciencedirect.com/science/article/pii/S0004370223000073',\n",
       " 'https://www.sciencedirect.com/science/article/pii/S0004370221001065',\n",
       " 'https://www.sciencedirect.com/science/article/pii/S0004370222001795',\n",
       " 'https://www.sciencedirect.com/science/article/pii/S0004370221000102',\n",
       " 'https://www.sciencedirect.com/science/article/pii/S0004370219300116',\n",
       " 'https://www.sciencedirect.com/science/article/pii/S000437029700043X',\n",
       " 'https://www.sciencedirect.com/science/article/pii/S0004370216300790',\n",
       " 'https://www.sciencedirect.com/science/article/pii/S0004370221000096',\n",
       " 'https://www.sciencedirect.com/science/article/pii/S0004370216300224',\n",
       " 'https://www.sciencedirect.com/science/article/pii/S0004370211000178',\n",
       " 'https://www.sciencedirect.com/science/article/pii/S0004370222001692',\n",
       " 'https://www.sciencedirect.com/science/article/pii/S000437029800023X',\n",
       " 'https://www.sciencedirect.com/science/article/pii/S0004370221000242']"
      ]
     },
     "execution_count": 296,
     "metadata": {},
     "output_type": "execute_result"
    }
   ],
   "source": [
    "paper_url"
   ]
  },
  {
   "cell_type": "code",
   "execution_count": 297,
   "id": "108761f2",
   "metadata": {},
   "outputs": [],
   "source": [
    "df9=pd.DataFrame({'paper title':paper_title,'authors':authors,'published date':published_date,'paper url':paper_url})"
   ]
  },
  {
   "cell_type": "code",
   "execution_count": 298,
   "id": "8c5245bc",
   "metadata": {},
   "outputs": [
    {
     "data": {
      "text/html": [
       "<div>\n",
       "<style scoped>\n",
       "    .dataframe tbody tr th:only-of-type {\n",
       "        vertical-align: middle;\n",
       "    }\n",
       "\n",
       "    .dataframe tbody tr th {\n",
       "        vertical-align: top;\n",
       "    }\n",
       "\n",
       "    .dataframe thead th {\n",
       "        text-align: right;\n",
       "    }\n",
       "</style>\n",
       "<table border=\"1\" class=\"dataframe\">\n",
       "  <thead>\n",
       "    <tr style=\"text-align: right;\">\n",
       "      <th></th>\n",
       "      <th>paper title</th>\n",
       "      <th>authors</th>\n",
       "      <th>published date</th>\n",
       "      <th>paper url</th>\n",
       "    </tr>\n",
       "  </thead>\n",
       "  <tbody>\n",
       "    <tr>\n",
       "      <th>0</th>\n",
       "      <td>Reward is enough</td>\n",
       "      <td>David Silver, Satinder Singh, Doina Precup, Ri...</td>\n",
       "      <td>October 2021</td>\n",
       "      <td>https://www.sciencedirect.com/science/article/...</td>\n",
       "    </tr>\n",
       "    <tr>\n",
       "      <th>1</th>\n",
       "      <td>Explanation in artificial intelligence: Insigh...</td>\n",
       "      <td>Tim Miller</td>\n",
       "      <td>February 2019</td>\n",
       "      <td>https://www.sciencedirect.com/science/article/...</td>\n",
       "    </tr>\n",
       "    <tr>\n",
       "      <th>2</th>\n",
       "      <td>Creativity and artificial intelligence</td>\n",
       "      <td>Margaret A. Boden</td>\n",
       "      <td>August 1998</td>\n",
       "      <td>https://www.sciencedirect.com/science/article/...</td>\n",
       "    </tr>\n",
       "    <tr>\n",
       "      <th>3</th>\n",
       "      <td>Conflict-based search for optimal multi-agent ...</td>\n",
       "      <td>Guni Sharon, Roni Stern, Ariel Felner, Nathan ...</td>\n",
       "      <td>February 2015</td>\n",
       "      <td>https://www.sciencedirect.com/science/article/...</td>\n",
       "    </tr>\n",
       "    <tr>\n",
       "      <th>4</th>\n",
       "      <td>Knowledge graphs as tools for explainable mach...</td>\n",
       "      <td>Ilaria Tiddi, Stefan Schlobach</td>\n",
       "      <td>January 2022</td>\n",
       "      <td>https://www.sciencedirect.com/science/article/...</td>\n",
       "    </tr>\n",
       "    <tr>\n",
       "      <th>5</th>\n",
       "      <td>Law and logic: A review from an argumentation ...</td>\n",
       "      <td>Henry Prakken, Giovanni Sartor</td>\n",
       "      <td>October 2015</td>\n",
       "      <td>https://www.sciencedirect.com/science/article/...</td>\n",
       "    </tr>\n",
       "    <tr>\n",
       "      <th>6</th>\n",
       "      <td>Between MDPs and semi-MDPs: A framework for te...</td>\n",
       "      <td>Richard S. Sutton, Doina Precup, Satinder Singh</td>\n",
       "      <td>August 1999</td>\n",
       "      <td>https://www.sciencedirect.com/science/article/...</td>\n",
       "    </tr>\n",
       "    <tr>\n",
       "      <th>7</th>\n",
       "      <td>Explaining individual predictions when feature...</td>\n",
       "      <td>Kjersti Aas, Martin Jullum, Anders Løland</td>\n",
       "      <td>September 2021</td>\n",
       "      <td>https://www.sciencedirect.com/science/article/...</td>\n",
       "    </tr>\n",
       "    <tr>\n",
       "      <th>8</th>\n",
       "      <td>Multiple object tracking: A literature review</td>\n",
       "      <td>Wenhan Luo, Junliang Xing and 4 more</td>\n",
       "      <td>April 2021</td>\n",
       "      <td>https://www.sciencedirect.com/science/article/...</td>\n",
       "    </tr>\n",
       "    <tr>\n",
       "      <th>9</th>\n",
       "      <td>A survey of inverse reinforcement learning: Ch...</td>\n",
       "      <td>Saurabh Arora, Prashant Doshi</td>\n",
       "      <td>August 2021</td>\n",
       "      <td>https://www.sciencedirect.com/science/article/...</td>\n",
       "    </tr>\n",
       "    <tr>\n",
       "      <th>10</th>\n",
       "      <td>Evaluating XAI: A comparison of rule-based and...</td>\n",
       "      <td>Jasper van der Waa, Elisabeth Nieuwburg, Anita...</td>\n",
       "      <td>February 2021</td>\n",
       "      <td>https://www.sciencedirect.com/science/article/...</td>\n",
       "    </tr>\n",
       "    <tr>\n",
       "      <th>11</th>\n",
       "      <td>Explainable AI tools for legal reasoning about...</td>\n",
       "      <td>Joe Collenette, Katie Atkinson, Trevor Bench-C...</td>\n",
       "      <td>April 2023</td>\n",
       "      <td>https://www.sciencedirect.com/science/article/...</td>\n",
       "    </tr>\n",
       "    <tr>\n",
       "      <th>12</th>\n",
       "      <td>Hard choices in artificial intelligence</td>\n",
       "      <td>Roel Dobbe, Thomas Krendl Gilbert, Yonatan Mintz</td>\n",
       "      <td>November 2021</td>\n",
       "      <td>https://www.sciencedirect.com/science/article/...</td>\n",
       "    </tr>\n",
       "    <tr>\n",
       "      <th>13</th>\n",
       "      <td>Assessing the communication gap between AI mod...</td>\n",
       "      <td>Oskar Wysocki, Jessica Katharine Davies and 5 ...</td>\n",
       "      <td>March 2023</td>\n",
       "      <td>https://www.sciencedirect.com/science/article/...</td>\n",
       "    </tr>\n",
       "    <tr>\n",
       "      <th>14</th>\n",
       "      <td>Explaining black-box classifiers using post-ho...</td>\n",
       "      <td>Eoin M. Kenny, Courtney Ford, Molly Quinn, Mar...</td>\n",
       "      <td>May 2021</td>\n",
       "      <td>https://www.sciencedirect.com/science/article/...</td>\n",
       "    </tr>\n",
       "    <tr>\n",
       "      <th>15</th>\n",
       "      <td>The Hanabi challenge: A new frontier for AI re...</td>\n",
       "      <td>Nolan Bard, Jakob N. Foerster and 13 more</td>\n",
       "      <td>March 2020</td>\n",
       "      <td>https://www.sciencedirect.com/science/article/...</td>\n",
       "    </tr>\n",
       "    <tr>\n",
       "      <th>16</th>\n",
       "      <td>Wrappers for feature subset selection</td>\n",
       "      <td>Ron Kohavi, George H. John</td>\n",
       "      <td>December 1997</td>\n",
       "      <td>https://www.sciencedirect.com/science/article/...</td>\n",
       "    </tr>\n",
       "    <tr>\n",
       "      <th>17</th>\n",
       "      <td>Artificial cognition for social human–robot in...</td>\n",
       "      <td>Séverin Lemaignan, Mathieu Warnier and 3 more</td>\n",
       "      <td>June 2017</td>\n",
       "      <td>https://www.sciencedirect.com/science/article/...</td>\n",
       "    </tr>\n",
       "    <tr>\n",
       "      <th>18</th>\n",
       "      <td>A review of possible effects of cognitive bias...</td>\n",
       "      <td>Tomáš Kliegr, Štěpán Bahník, Johannes Fürnkranz</td>\n",
       "      <td>June 2021</td>\n",
       "      <td>https://www.sciencedirect.com/science/article/...</td>\n",
       "    </tr>\n",
       "    <tr>\n",
       "      <th>19</th>\n",
       "      <td>The multifaceted impact of Ada Lovelace in the...</td>\n",
       "      <td>Luigia Carlucci Aiello</td>\n",
       "      <td>June 2016</td>\n",
       "      <td>https://www.sciencedirect.com/science/article/...</td>\n",
       "    </tr>\n",
       "    <tr>\n",
       "      <th>20</th>\n",
       "      <td>Robot ethics: Mapping the issues for a mechani...</td>\n",
       "      <td>Patrick Lin, Keith Abney, George Bekey</td>\n",
       "      <td>April 2011</td>\n",
       "      <td>https://www.sciencedirect.com/science/article/...</td>\n",
       "    </tr>\n",
       "    <tr>\n",
       "      <th>21</th>\n",
       "      <td>Reward (Mis)design for autonomous driving</td>\n",
       "      <td>W. Bradley Knox, Alessandro Allievi and 3 more</td>\n",
       "      <td>March 2023</td>\n",
       "      <td>https://www.sciencedirect.com/science/article/...</td>\n",
       "    </tr>\n",
       "    <tr>\n",
       "      <th>22</th>\n",
       "      <td>Planning and acting in partially observable st...</td>\n",
       "      <td>Leslie Pack Kaelbling, Michael L. Littman, Ant...</td>\n",
       "      <td>May 1998</td>\n",
       "      <td>https://www.sciencedirect.com/science/article/...</td>\n",
       "    </tr>\n",
       "    <tr>\n",
       "      <th>23</th>\n",
       "      <td>What do we want from Explainable Artificial In...</td>\n",
       "      <td>Markus Langer, Daniel Oster and 6 more</td>\n",
       "      <td>July 2021</td>\n",
       "      <td>https://www.sciencedirect.com/science/article/...</td>\n",
       "    </tr>\n",
       "  </tbody>\n",
       "</table>\n",
       "</div>"
      ],
      "text/plain": [
       "                                          paper title  \\\n",
       "0                                    Reward is enough   \n",
       "1   Explanation in artificial intelligence: Insigh...   \n",
       "2              Creativity and artificial intelligence   \n",
       "3   Conflict-based search for optimal multi-agent ...   \n",
       "4   Knowledge graphs as tools for explainable mach...   \n",
       "5   Law and logic: A review from an argumentation ...   \n",
       "6   Between MDPs and semi-MDPs: A framework for te...   \n",
       "7   Explaining individual predictions when feature...   \n",
       "8       Multiple object tracking: A literature review   \n",
       "9   A survey of inverse reinforcement learning: Ch...   \n",
       "10  Evaluating XAI: A comparison of rule-based and...   \n",
       "11  Explainable AI tools for legal reasoning about...   \n",
       "12            Hard choices in artificial intelligence   \n",
       "13  Assessing the communication gap between AI mod...   \n",
       "14  Explaining black-box classifiers using post-ho...   \n",
       "15  The Hanabi challenge: A new frontier for AI re...   \n",
       "16              Wrappers for feature subset selection   \n",
       "17  Artificial cognition for social human–robot in...   \n",
       "18  A review of possible effects of cognitive bias...   \n",
       "19  The multifaceted impact of Ada Lovelace in the...   \n",
       "20  Robot ethics: Mapping the issues for a mechani...   \n",
       "21          Reward (Mis)design for autonomous driving   \n",
       "22  Planning and acting in partially observable st...   \n",
       "23  What do we want from Explainable Artificial In...   \n",
       "\n",
       "                                              authors  published date  \\\n",
       "0   David Silver, Satinder Singh, Doina Precup, Ri...    October 2021   \n",
       "1                                         Tim Miller    February 2019   \n",
       "2                                  Margaret A. Boden      August 1998   \n",
       "3   Guni Sharon, Roni Stern, Ariel Felner, Nathan ...   February 2015   \n",
       "4                     Ilaria Tiddi, Stefan Schlobach     January 2022   \n",
       "5                     Henry Prakken, Giovanni Sartor     October 2015   \n",
       "6    Richard S. Sutton, Doina Precup, Satinder Singh      August 1999   \n",
       "7          Kjersti Aas, Martin Jullum, Anders Løland   September 2021   \n",
       "8                Wenhan Luo, Junliang Xing and 4 more      April 2021   \n",
       "9                      Saurabh Arora, Prashant Doshi      August 2021   \n",
       "10  Jasper van der Waa, Elisabeth Nieuwburg, Anita...   February 2021   \n",
       "11  Joe Collenette, Katie Atkinson, Trevor Bench-C...      April 2023   \n",
       "12  Roel Dobbe, Thomas Krendl Gilbert, Yonatan Mintz    November 2021   \n",
       "13  Oskar Wysocki, Jessica Katharine Davies and 5 ...      March 2023   \n",
       "14  Eoin M. Kenny, Courtney Ford, Molly Quinn, Mar...        May 2021   \n",
       "15          Nolan Bard, Jakob N. Foerster and 13 more      March 2020   \n",
       "16                        Ron Kohavi, George H. John    December 1997   \n",
       "17      Séverin Lemaignan, Mathieu Warnier and 3 more       June 2017   \n",
       "18   Tomáš Kliegr, Štěpán Bahník, Johannes Fürnkranz        June 2021   \n",
       "19                            Luigia Carlucci Aiello        June 2016   \n",
       "20            Patrick Lin, Keith Abney, George Bekey       April 2011   \n",
       "21     W. Bradley Knox, Alessandro Allievi and 3 more      March 2023   \n",
       "22  Leslie Pack Kaelbling, Michael L. Littman, Ant...        May 1998   \n",
       "23             Markus Langer, Daniel Oster and 6 more       July 2021   \n",
       "\n",
       "                                            paper url  \n",
       "0   https://www.sciencedirect.com/science/article/...  \n",
       "1   https://www.sciencedirect.com/science/article/...  \n",
       "2   https://www.sciencedirect.com/science/article/...  \n",
       "3   https://www.sciencedirect.com/science/article/...  \n",
       "4   https://www.sciencedirect.com/science/article/...  \n",
       "5   https://www.sciencedirect.com/science/article/...  \n",
       "6   https://www.sciencedirect.com/science/article/...  \n",
       "7   https://www.sciencedirect.com/science/article/...  \n",
       "8   https://www.sciencedirect.com/science/article/...  \n",
       "9   https://www.sciencedirect.com/science/article/...  \n",
       "10  https://www.sciencedirect.com/science/article/...  \n",
       "11  https://www.sciencedirect.com/science/article/...  \n",
       "12  https://www.sciencedirect.com/science/article/...  \n",
       "13  https://www.sciencedirect.com/science/article/...  \n",
       "14  https://www.sciencedirect.com/science/article/...  \n",
       "15  https://www.sciencedirect.com/science/article/...  \n",
       "16  https://www.sciencedirect.com/science/article/...  \n",
       "17  https://www.sciencedirect.com/science/article/...  \n",
       "18  https://www.sciencedirect.com/science/article/...  \n",
       "19  https://www.sciencedirect.com/science/article/...  \n",
       "20  https://www.sciencedirect.com/science/article/...  \n",
       "21  https://www.sciencedirect.com/science/article/...  \n",
       "22  https://www.sciencedirect.com/science/article/...  \n",
       "23  https://www.sciencedirect.com/science/article/...  "
      ]
     },
     "execution_count": 298,
     "metadata": {},
     "output_type": "execute_result"
    }
   ],
   "source": [
    "df9"
   ]
  },
  {
   "cell_type": "markdown",
   "id": "dc92ab9a",
   "metadata": {},
   "source": [
    "question no 7"
   ]
  },
  {
   "cell_type": "code",
   "execution_count": 299,
   "id": "21a9a28d",
   "metadata": {},
   "outputs": [
    {
     "data": {
      "text/plain": [
       "<Response [200]>"
      ]
     },
     "execution_count": 299,
     "metadata": {},
     "output_type": "execute_result"
    }
   ],
   "source": [
    "page9=requests.get('https://www.dineout.co.in/delhi-restaurants/buffet-special')\n",
    "page9"
   ]
  },
  {
   "cell_type": "code",
   "execution_count": 300,
   "id": "6073b18b",
   "metadata": {},
   "outputs": [],
   "source": [
    "soup9=BeautifulSoup(page9.content)"
   ]
  },
  {
   "cell_type": "code",
   "execution_count": 301,
   "id": "95f98ea7",
   "metadata": {},
   "outputs": [],
   "source": [
    "resto_name=[]\n",
    "for i in soup9.find_all('a',class_=\"restnt-name ellipsis\"):\n",
    "    resto_name.append(i.text)"
   ]
  },
  {
   "cell_type": "code",
   "execution_count": 302,
   "id": "fef1cc11",
   "metadata": {},
   "outputs": [
    {
     "data": {
      "text/plain": [
       "['Castle Barbeque',\n",
       " 'Jungle Jamboree',\n",
       " 'Cafe Knosh',\n",
       " \"Castle's Barbeque\",\n",
       " 'The Barbeque Company',\n",
       " 'India Grill',\n",
       " 'Delhi Barbeque',\n",
       " 'The Monarch - Bar Be Que Village',\n",
       " 'Indian Grill Room']"
      ]
     },
     "execution_count": 302,
     "metadata": {},
     "output_type": "execute_result"
    }
   ],
   "source": [
    "resto_name"
   ]
  },
  {
   "cell_type": "code",
   "execution_count": 307,
   "id": "3ecdf583",
   "metadata": {},
   "outputs": [],
   "source": [
    "cuisine=[]\n",
    "for i in soup9.find_all('span',class_=\"double-line-ellipsis\"):\n",
    "    cuisine.append(i.text.split('|')[1])"
   ]
  },
  {
   "cell_type": "code",
   "execution_count": 308,
   "id": "784bcc8d",
   "metadata": {},
   "outputs": [
    {
     "data": {
      "text/plain": [
       "[' Chinese, North Indian',\n",
       " ' North Indian, Asian, Italian',\n",
       " ' Italian, Continental',\n",
       " ' Chinese, North Indian',\n",
       " ' North Indian, Chinese',\n",
       " ' North Indian, Italian',\n",
       " ' North Indian',\n",
       " ' North Indian',\n",
       " ' North Indian, Mughlai']"
      ]
     },
     "execution_count": 308,
     "metadata": {},
     "output_type": "execute_result"
    }
   ],
   "source": [
    "cuisine"
   ]
  },
  {
   "cell_type": "code",
   "execution_count": 309,
   "id": "c8a93fa0",
   "metadata": {},
   "outputs": [],
   "source": [
    "location=[]\n",
    "for i in soup9.find_all('div',class_=\"restnt-loc ellipsis\"):\n",
    "    location.append(i.text)"
   ]
  },
  {
   "cell_type": "code",
   "execution_count": 310,
   "id": "1a9487b3",
   "metadata": {},
   "outputs": [
    {
     "data": {
      "text/plain": [
       "['Connaught Place, Central Delhi',\n",
       " '3CS Mall,Lajpat Nagar - 3, South Delhi',\n",
       " 'The Leela Ambience Convention Hotel,Shahdara, East Delhi',\n",
       " 'Pacific Mall,Tagore Garden, West Delhi',\n",
       " 'Gardens Galleria,Sector 38A, Noida',\n",
       " 'Hilton Garden Inn,Saket, South Delhi',\n",
       " 'Taurus Sarovar Portico,Mahipalpur, South Delhi',\n",
       " 'Indirapuram Habitat Centre,Indirapuram, Ghaziabad',\n",
       " 'Suncity Business Tower,Golf Course Road, Gurgaon']"
      ]
     },
     "execution_count": 310,
     "metadata": {},
     "output_type": "execute_result"
    }
   ],
   "source": [
    "location"
   ]
  },
  {
   "cell_type": "code",
   "execution_count": 311,
   "id": "19df6a60",
   "metadata": {},
   "outputs": [],
   "source": [
    "ratings=[]\n",
    "for i in soup9.find_all('div',class_=\"restnt-rating rating-4\"):\n",
    "    ratings.append(i.text)"
   ]
  },
  {
   "cell_type": "code",
   "execution_count": 312,
   "id": "2405e92a",
   "metadata": {},
   "outputs": [
    {
     "data": {
      "text/plain": [
       "['4', '3.9', '4.3', '3.9', '3.9', '3.9', '3.7', '3.8', '4.3']"
      ]
     },
     "execution_count": 312,
     "metadata": {},
     "output_type": "execute_result"
    }
   ],
   "source": [
    "ratings"
   ]
  },
  {
   "cell_type": "code",
   "execution_count": 313,
   "id": "c4cf73a6",
   "metadata": {},
   "outputs": [],
   "source": [
    "image_url=[]\n",
    "for i in soup9.find_all('img',class_=\"no-img\"):\n",
    "    image_url.append(i.get('data-src'))"
   ]
  },
  {
   "cell_type": "code",
   "execution_count": 314,
   "id": "585cc205",
   "metadata": {},
   "outputs": [
    {
     "data": {
      "text/plain": [
       "['https://im1.dineout.co.in/images/uploads/restaurant/sharpen/8/k/b/p86792-16062953735fbe1f4d3fb7e.jpg?tr=tr:n-medium',\n",
       " 'https://im1.dineout.co.in/images/uploads/restaurant/sharpen/5/p/m/p59633-166088382462ff137009010.jpg?tr=tr:n-medium',\n",
       " 'https://im1.dineout.co.in/images/uploads/restaurant/sharpen/4/p/m/p406-15438184745c04ccea491bc.jpg?tr=tr:n-medium',\n",
       " 'https://im1.dineout.co.in/images/uploads/restaurant/sharpen/3/j/o/p38113-15959192065f1fcb666130c.jpg?tr=tr:n-medium',\n",
       " 'https://im1.dineout.co.in/images/uploads/restaurant/sharpen/7/p/k/p79307-16051787755fad1597f2bf9.jpg?tr=tr:n-medium',\n",
       " 'https://im1.dineout.co.in/images/uploads/restaurant/sharpen/2/v/t/p2687-1482477169585cce712b90f.jpg?tr=tr:n-medium',\n",
       " 'https://im1.dineout.co.in/images/uploads/restaurant/sharpen/5/d/i/p52501-1661855212630de5eceb6d2.jpg?tr=tr:n-medium',\n",
       " 'https://im1.dineout.co.in/images/uploads/restaurant/sharpen/3/n/o/p34822-15599107305cfa594a13c24.jpg?tr=tr:n-medium',\n",
       " 'https://im1.dineout.co.in/images/uploads/restaurant/sharpen/5/y/f/p549-165000147262590640c0afc.jpg?tr=tr:n-medium']"
      ]
     },
     "execution_count": 314,
     "metadata": {},
     "output_type": "execute_result"
    }
   ],
   "source": [
    "image_url"
   ]
  },
  {
   "cell_type": "code",
   "execution_count": 315,
   "id": "6f642dae",
   "metadata": {},
   "outputs": [],
   "source": [
    "df10=pd.DataFrame({'Restaurant name':resto_name,'Cuisine':cuisine,'Location':location,'Ratings':ratings,'Image url':image_url})"
   ]
  },
  {
   "cell_type": "code",
   "execution_count": 316,
   "id": "4c411408",
   "metadata": {},
   "outputs": [
    {
     "data": {
      "text/html": [
       "<div>\n",
       "<style scoped>\n",
       "    .dataframe tbody tr th:only-of-type {\n",
       "        vertical-align: middle;\n",
       "    }\n",
       "\n",
       "    .dataframe tbody tr th {\n",
       "        vertical-align: top;\n",
       "    }\n",
       "\n",
       "    .dataframe thead th {\n",
       "        text-align: right;\n",
       "    }\n",
       "</style>\n",
       "<table border=\"1\" class=\"dataframe\">\n",
       "  <thead>\n",
       "    <tr style=\"text-align: right;\">\n",
       "      <th></th>\n",
       "      <th>Restaurant name</th>\n",
       "      <th>Cuisine</th>\n",
       "      <th>Location</th>\n",
       "      <th>Ratings</th>\n",
       "      <th>Image url</th>\n",
       "    </tr>\n",
       "  </thead>\n",
       "  <tbody>\n",
       "    <tr>\n",
       "      <th>0</th>\n",
       "      <td>Castle Barbeque</td>\n",
       "      <td>Chinese, North Indian</td>\n",
       "      <td>Connaught Place, Central Delhi</td>\n",
       "      <td>4</td>\n",
       "      <td>https://im1.dineout.co.in/images/uploads/resta...</td>\n",
       "    </tr>\n",
       "    <tr>\n",
       "      <th>1</th>\n",
       "      <td>Jungle Jamboree</td>\n",
       "      <td>North Indian, Asian, Italian</td>\n",
       "      <td>3CS Mall,Lajpat Nagar - 3, South Delhi</td>\n",
       "      <td>3.9</td>\n",
       "      <td>https://im1.dineout.co.in/images/uploads/resta...</td>\n",
       "    </tr>\n",
       "    <tr>\n",
       "      <th>2</th>\n",
       "      <td>Cafe Knosh</td>\n",
       "      <td>Italian, Continental</td>\n",
       "      <td>The Leela Ambience Convention Hotel,Shahdara, ...</td>\n",
       "      <td>4.3</td>\n",
       "      <td>https://im1.dineout.co.in/images/uploads/resta...</td>\n",
       "    </tr>\n",
       "    <tr>\n",
       "      <th>3</th>\n",
       "      <td>Castle's Barbeque</td>\n",
       "      <td>Chinese, North Indian</td>\n",
       "      <td>Pacific Mall,Tagore Garden, West Delhi</td>\n",
       "      <td>3.9</td>\n",
       "      <td>https://im1.dineout.co.in/images/uploads/resta...</td>\n",
       "    </tr>\n",
       "    <tr>\n",
       "      <th>4</th>\n",
       "      <td>The Barbeque Company</td>\n",
       "      <td>North Indian, Chinese</td>\n",
       "      <td>Gardens Galleria,Sector 38A, Noida</td>\n",
       "      <td>3.9</td>\n",
       "      <td>https://im1.dineout.co.in/images/uploads/resta...</td>\n",
       "    </tr>\n",
       "    <tr>\n",
       "      <th>5</th>\n",
       "      <td>India Grill</td>\n",
       "      <td>North Indian, Italian</td>\n",
       "      <td>Hilton Garden Inn,Saket, South Delhi</td>\n",
       "      <td>3.9</td>\n",
       "      <td>https://im1.dineout.co.in/images/uploads/resta...</td>\n",
       "    </tr>\n",
       "    <tr>\n",
       "      <th>6</th>\n",
       "      <td>Delhi Barbeque</td>\n",
       "      <td>North Indian</td>\n",
       "      <td>Taurus Sarovar Portico,Mahipalpur, South Delhi</td>\n",
       "      <td>3.7</td>\n",
       "      <td>https://im1.dineout.co.in/images/uploads/resta...</td>\n",
       "    </tr>\n",
       "    <tr>\n",
       "      <th>7</th>\n",
       "      <td>The Monarch - Bar Be Que Village</td>\n",
       "      <td>North Indian</td>\n",
       "      <td>Indirapuram Habitat Centre,Indirapuram, Ghaziabad</td>\n",
       "      <td>3.8</td>\n",
       "      <td>https://im1.dineout.co.in/images/uploads/resta...</td>\n",
       "    </tr>\n",
       "    <tr>\n",
       "      <th>8</th>\n",
       "      <td>Indian Grill Room</td>\n",
       "      <td>North Indian, Mughlai</td>\n",
       "      <td>Suncity Business Tower,Golf Course Road, Gurgaon</td>\n",
       "      <td>4.3</td>\n",
       "      <td>https://im1.dineout.co.in/images/uploads/resta...</td>\n",
       "    </tr>\n",
       "  </tbody>\n",
       "</table>\n",
       "</div>"
      ],
      "text/plain": [
       "                    Restaurant name                        Cuisine  \\\n",
       "0                   Castle Barbeque          Chinese, North Indian   \n",
       "1                   Jungle Jamboree   North Indian, Asian, Italian   \n",
       "2                        Cafe Knosh           Italian, Continental   \n",
       "3                 Castle's Barbeque          Chinese, North Indian   \n",
       "4              The Barbeque Company          North Indian, Chinese   \n",
       "5                       India Grill          North Indian, Italian   \n",
       "6                    Delhi Barbeque                   North Indian   \n",
       "7  The Monarch - Bar Be Que Village                   North Indian   \n",
       "8                 Indian Grill Room          North Indian, Mughlai   \n",
       "\n",
       "                                            Location Ratings  \\\n",
       "0                     Connaught Place, Central Delhi       4   \n",
       "1             3CS Mall,Lajpat Nagar - 3, South Delhi     3.9   \n",
       "2  The Leela Ambience Convention Hotel,Shahdara, ...     4.3   \n",
       "3             Pacific Mall,Tagore Garden, West Delhi     3.9   \n",
       "4                 Gardens Galleria,Sector 38A, Noida     3.9   \n",
       "5               Hilton Garden Inn,Saket, South Delhi     3.9   \n",
       "6     Taurus Sarovar Portico,Mahipalpur, South Delhi     3.7   \n",
       "7  Indirapuram Habitat Centre,Indirapuram, Ghaziabad     3.8   \n",
       "8   Suncity Business Tower,Golf Course Road, Gurgaon     4.3   \n",
       "\n",
       "                                           Image url  \n",
       "0  https://im1.dineout.co.in/images/uploads/resta...  \n",
       "1  https://im1.dineout.co.in/images/uploads/resta...  \n",
       "2  https://im1.dineout.co.in/images/uploads/resta...  \n",
       "3  https://im1.dineout.co.in/images/uploads/resta...  \n",
       "4  https://im1.dineout.co.in/images/uploads/resta...  \n",
       "5  https://im1.dineout.co.in/images/uploads/resta...  \n",
       "6  https://im1.dineout.co.in/images/uploads/resta...  \n",
       "7  https://im1.dineout.co.in/images/uploads/resta...  \n",
       "8  https://im1.dineout.co.in/images/uploads/resta...  "
      ]
     },
     "execution_count": 316,
     "metadata": {},
     "output_type": "execute_result"
    }
   ],
   "source": [
    "df10"
   ]
  },
  {
   "cell_type": "code",
   "execution_count": null,
   "id": "c5ab82af",
   "metadata": {},
   "outputs": [],
   "source": []
  }
 ],
 "metadata": {
  "kernelspec": {
   "display_name": "Python 3 (ipykernel)",
   "language": "python",
   "name": "python3"
  },
  "language_info": {
   "codemirror_mode": {
    "name": "ipython",
    "version": 3
   },
   "file_extension": ".py",
   "mimetype": "text/x-python",
   "name": "python",
   "nbconvert_exporter": "python",
   "pygments_lexer": "ipython3",
   "version": "3.9.13"
  }
 },
 "nbformat": 4,
 "nbformat_minor": 5
}
